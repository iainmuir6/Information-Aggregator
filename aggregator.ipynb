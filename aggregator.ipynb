{
 "cells": [
  {
   "cell_type": "markdown",
   "metadata": {},
   "source": [
    "# Information Aggregator"
   ]
  },
  {
   "cell_type": "markdown",
   "metadata": {},
   "source": [
    "#### Author: Iain Muir, iam9ez@virginia.edu  \n",
    "*Date: January 20th, 2021  \n",
    "Project: Information Aggregator Application — powered by Datapane*"
   ]
  },
  {
   "cell_type": "markdown",
   "metadata": {},
   "source": [
    "## Sources"
   ]
  },
  {
   "cell_type": "markdown",
   "metadata": {},
   "source": [
    "* **[Robinhood](https://robin-stocks.readthedocs.io/en/latest/index.html)**\n",
    "* **[Finnhub](https://finnhub.io/docs/api/)**\n",
    "* **[ESPN](https://gist.github.com/akeaswaran/b48b02f1c94f873c6655e7129910fc3b)**\n",
    "* **[The New York Times](https://developer.nytimes.com/apis)**\n",
    "* **[CNN Money](https://money.cnn.com/data/markets)**\n",
    "* **[FiveThirtyEight](https://data.fivethirtyeight.com/)**\n",
    "* **[COVID Act Now](https://apidocs.covidactnow.org/api)**\n",
    "* **[Lichess](https://lichess.org/api)**\n",
    "* **[Spotify](https://developer.spotify.com/documentation/)**\n",
    "* **[YouTube]()**"
   ]
  },
  {
   "cell_type": "markdown",
   "metadata": {},
   "source": [
    "## Table of Contents <a class=\"anchor\" id=\"toc\"></a>"
   ]
  },
  {
   "cell_type": "markdown",
   "metadata": {
    "execution": {
     "iopub.execute_input": "2022-02-01T17:36:00.730516Z",
     "iopub.status.busy": "2022-02-01T17:36:00.729491Z",
     "iopub.status.idle": "2022-02-01T17:36:00.743532Z",
     "shell.execute_reply": "2022-02-01T17:36:00.744113Z"
    }
   },
   "source": [
    "* **[0. Import Libraries and Secrets](#import)**  \n",
    "* **[1. Build Report Components](#build)**  \n",
    "    * [1.1 Header](#header)  \n",
    "    * [1.2 Main Selector](#selector)  \n",
    "        * *[1.2.1 Sports Results and Analytics](#espn)*  \n",
    "        * *[1.2.2 Top World News](#nyt)*  \n",
    "        * *[1.2.3 Stock Market](#finnhub)*  \n",
    "        * *[1.2.4 Portfolio Performance](#robinhood)*  \n",
    "        * *[1.2.5 Data Exploration](#data)*  \n",
    "        * *[1.2.6 Compiled Selector](#compiled)*  \n",
    "    * [1.3 Credits](#credits)  \n",
    "* **[2. Datapane Report](#report)**  "
   ]
  },
  {
   "cell_type": "markdown",
   "metadata": {},
   "source": [
    "## 0. Import Libraries and Secrets <a class=\"anchor\" id=\"import\"></a>"
   ]
  },
  {
   "cell_type": "markdown",
   "metadata": {},
   "source": [
    "[Table of Contents](#toc)"
   ]
  },
  {
   "cell_type": "markdown",
   "metadata": {},
   "source": [
    "Importing Standard Libraries..."
   ]
  },
  {
   "cell_type": "code",
   "execution_count": 1,
   "metadata": {
    "execution": {
     "iopub.execute_input": "2022-02-14T16:20:11.214677Z",
     "iopub.status.busy": "2022-02-14T16:20:11.203708Z",
     "iopub.status.idle": "2022-02-14T16:20:12.429035Z",
     "shell.execute_reply": "2022-02-14T16:20:12.428080Z"
    }
   },
   "outputs": [],
   "source": [
    "from itertools import zip_longest\n",
    "from bs4 import BeautifulSoup\n",
    "from functools import partial\n",
    "import datapane as dp\n",
    "import pandas as pd\n",
    "import numpy as np\n",
    "import webbrowser\n",
    "import warnings\n",
    "import datetime\n",
    "import requests\n",
    "import time\n",
    "import json"
   ]
  },
  {
   "cell_type": "markdown",
   "metadata": {},
   "source": [
    "Importing Modules..."
   ]
  },
  {
   "cell_type": "code",
   "execution_count": 2,
   "metadata": {
    "execution": {
     "iopub.execute_input": "2022-02-14T16:20:12.437849Z",
     "iopub.status.busy": "2022-02-14T16:20:12.436504Z",
     "iopub.status.idle": "2022-02-14T16:20:12.939245Z",
     "shell.execute_reply": "2022-02-14T16:20:12.940012Z"
    }
   },
   "outputs": [],
   "source": [
    "from robinhood import ticker_toggle, make_header, authenticate_, load_portfolio, get_scroll_objects, robinhood_news\n",
    "from espn import format_news, news, parse_team, format_scores, scores, group_sport, standings\n",
    "from finnhub import quote, candles, candlestick, name_search, big_number, profile, news\n",
    "from nyt import top_stories, semantics, format_article, format_sections\n",
    "from cnn_money import cnn_big_numbers, format_modules, group_modules\n",
    "from fivethirtyeight import active_teams, make_button, plot_elo\n",
    "from covid import county_choropleth, plot_state, altair_line\n",
    "from spotify import get_spotify_embed"
   ]
  },
  {
   "cell_type": "code",
   "execution_count": 3,
   "metadata": {
    "execution": {
     "iopub.execute_input": "2022-02-14T16:20:12.958370Z",
     "iopub.status.busy": "2022-02-14T16:20:12.955812Z",
     "iopub.status.idle": "2022-02-14T16:20:12.967216Z",
     "shell.execute_reply": "2022-02-14T16:20:12.968513Z"
    }
   },
   "outputs": [],
   "source": [
    "from errors import ErrorHandler, Logging, get_error_info "
   ]
  },
  {
   "cell_type": "code",
   "execution_count": 4,
   "metadata": {
    "execution": {
     "iopub.execute_input": "2022-02-14T16:20:12.976213Z",
     "iopub.status.busy": "2022-02-14T16:20:12.974239Z",
     "iopub.status.idle": "2022-02-14T16:20:12.982020Z",
     "shell.execute_reply": "2022-02-14T16:20:12.983455Z"
    }
   },
   "outputs": [],
   "source": [
    "from constants import ROOT, API_LOGOS, ESPN_SPORTS"
   ]
  },
  {
   "cell_type": "markdown",
   "metadata": {},
   "source": [
    "Checking Datapane version..."
   ]
  },
  {
   "cell_type": "code",
   "execution_count": 5,
   "metadata": {
    "execution": {
     "iopub.execute_input": "2022-02-14T16:20:12.993900Z",
     "iopub.status.busy": "2022-02-14T16:20:12.989472Z",
     "iopub.status.idle": "2022-02-14T16:20:15.030648Z",
     "shell.execute_reply": "2022-02-14T16:20:15.031178Z"
    }
   },
   "outputs": [],
   "source": [
    "version = !datapane --version"
   ]
  },
  {
   "cell_type": "code",
   "execution_count": 6,
   "metadata": {
    "execution": {
     "iopub.execute_input": "2022-02-14T16:20:15.036951Z",
     "iopub.status.busy": "2022-02-14T16:20:15.036060Z",
     "iopub.status.idle": "2022-02-14T16:20:15.039835Z",
     "shell.execute_reply": "2022-02-14T16:20:15.040248Z"
    }
   },
   "outputs": [],
   "source": [
    "assert version[0].split()[2] == '0.13.2'"
   ]
  },
  {
   "cell_type": "code",
   "execution_count": 7,
   "metadata": {
    "execution": {
     "iopub.execute_input": "2022-02-14T16:20:15.045891Z",
     "iopub.status.busy": "2022-02-14T16:20:15.045047Z",
     "iopub.status.idle": "2022-02-14T16:20:18.162075Z",
     "shell.execute_reply": "2022-02-14T16:20:18.162689Z"
    }
   },
   "outputs": [
    {
     "name": "stdout",
     "output_type": "stream",
     "text": [
      "\u001b[32mConnected successfully to https://datapane.com as iainmuir\u001b[0m\r\n"
     ]
    }
   ],
   "source": [
    "!datapane login --token=55010cebc170ecfbeddb82838c360776bf36f6be"
   ]
  },
  {
   "cell_type": "markdown",
   "metadata": {},
   "source": [
    "Open and Unpack Secrets File..."
   ]
  },
  {
   "cell_type": "code",
   "execution_count": 8,
   "metadata": {
    "execution": {
     "iopub.execute_input": "2022-02-14T16:20:18.170503Z",
     "iopub.status.busy": "2022-02-14T16:20:18.168745Z",
     "iopub.status.idle": "2022-02-14T16:20:18.176458Z",
     "shell.execute_reply": "2022-02-14T16:20:18.175908Z"
    }
   },
   "outputs": [],
   "source": [
    "with open('secrets.json') as s:\n",
    "    secrets = json.loads(s.read())"
   ]
  },
  {
   "cell_type": "code",
   "execution_count": 9,
   "metadata": {
    "execution": {
     "iopub.execute_input": "2022-02-14T16:20:18.184758Z",
     "iopub.status.busy": "2022-02-14T16:20:18.184005Z",
     "iopub.status.idle": "2022-02-14T16:20:18.186650Z",
     "shell.execute_reply": "2022-02-14T16:20:18.187420Z"
    }
   },
   "outputs": [],
   "source": [
    "# Datapane\n",
    "DATAPANE_KEY = secrets['datapane']\n",
    "    \n",
    "# Finnhub\n",
    "FINNHUB_KEY = secrets['finnhub']\n",
    "\n",
    "# Robinhood\n",
    "ROBIN_USERNAME, ROBIN_PASSWORD = secrets['robinhood'].values()\n",
    "\n",
    "# New York Times\n",
    "NYT_KEY,  NYT_SECRET, NYT_ID = secrets['nyt'].values()\n",
    "\n",
    "# Spotify\n",
    "SPOTIFY_SECRET, SPOTIFY_ID = secrets['spotify'].values()\n",
    "\n",
    "# COVID Act Now\n",
    "COVID_KEY = secrets['covid']"
   ]
  },
  {
   "cell_type": "code",
   "execution_count": 10,
   "metadata": {
    "execution": {
     "iopub.execute_input": "2022-02-14T16:20:18.196017Z",
     "iopub.status.busy": "2022-02-14T16:20:18.195117Z",
     "iopub.status.idle": "2022-02-14T16:20:18.348533Z",
     "shell.execute_reply": "2022-02-14T16:20:18.349215Z"
    }
   },
   "outputs": [],
   "source": [
    "AUTH_URL = 'https://accounts.spotify.com/api/token'\n",
    "auth_response = requests.post(\n",
    "    AUTH_URL, \n",
    "    {\n",
    "        'grant_type': 'client_credentials',\n",
    "        'client_id': SPOTIFY_ID,\n",
    "        'client_secret': SPOTIFY_SECRET\n",
    "    }\n",
    ")\n",
    "auth_response_data = auth_response.json()\n",
    "access_token = auth_response_data['access_token']"
   ]
  },
  {
   "cell_type": "code",
   "execution_count": 11,
   "metadata": {
    "execution": {
     "iopub.execute_input": "2022-02-14T16:20:18.359397Z",
     "iopub.status.busy": "2022-02-14T16:20:18.358230Z",
     "iopub.status.idle": "2022-02-14T16:20:18.480172Z",
     "shell.execute_reply": "2022-02-14T16:20:18.479432Z"
    }
   },
   "outputs": [],
   "source": [
    "try:\n",
    "    robinhood = authenticate_(ROBIN_USERNAME, ROBIN_PASSWORD)\n",
    "except KeyError:\n",
    "    print(\n",
    "        ErrorHandler(\"Failed Robinhood Authentication\", *get_error_info())\n",
    "    )\n",
    "    robinhood = None"
   ]
  },
  {
   "cell_type": "code",
   "execution_count": 12,
   "metadata": {
    "execution": {
     "iopub.execute_input": "2022-02-14T16:20:18.485166Z",
     "iopub.status.busy": "2022-02-14T16:20:18.484157Z",
     "iopub.status.idle": "2022-02-14T16:20:18.486634Z",
     "shell.execute_reply": "2022-02-14T16:20:18.487068Z"
    }
   },
   "outputs": [],
   "source": [
    "assert robinhood is not None"
   ]
  },
  {
   "cell_type": "markdown",
   "metadata": {},
   "source": [
    "Preferences"
   ]
  },
  {
   "cell_type": "code",
   "execution_count": 13,
   "metadata": {},
   "outputs": [],
   "source": [
    "warnings.simplefilter(action=\"ignore\", category=pd.core.common.SettingWithCopyWarning)"
   ]
  },
  {
   "cell_type": "markdown",
   "metadata": {},
   "source": [
    "## 1. Build Report Compenents <a class=\"anchor\" id=\"build\"></a>"
   ]
  },
  {
   "cell_type": "markdown",
   "metadata": {},
   "source": [
    "[Table of Contents](#toc)"
   ]
  },
  {
   "cell_type": "code",
   "execution_count": 14,
   "metadata": {
    "execution": {
     "iopub.execute_input": "2022-02-14T16:20:18.493662Z",
     "iopub.status.busy": "2022-02-14T16:20:18.492838Z",
     "iopub.status.idle": "2022-02-14T16:20:18.496102Z",
     "shell.execute_reply": "2022-02-14T16:20:18.496543Z"
    }
   },
   "outputs": [],
   "source": [
    "TODAY = datetime.date.today()"
   ]
  },
  {
   "cell_type": "markdown",
   "metadata": {},
   "source": [
    "### 1.1 Header <a class=\"anchor\" id=\"header\"></a>"
   ]
  },
  {
   "cell_type": "code",
   "execution_count": 15,
   "metadata": {
    "execution": {
     "iopub.execute_input": "2022-02-14T16:20:18.501410Z",
     "iopub.status.busy": "2022-02-14T16:20:18.500617Z",
     "iopub.status.idle": "2022-02-14T16:20:18.504074Z",
     "shell.execute_reply": "2022-02-14T16:20:18.503393Z"
    }
   },
   "outputs": [],
   "source": [
    "datapane, nyt, espn, spotify, _538, lichess = API_LOGOS.values()"
   ]
  },
  {
   "cell_type": "code",
   "execution_count": 16,
   "metadata": {
    "execution": {
     "iopub.execute_input": "2022-02-14T16:20:18.511587Z",
     "iopub.status.busy": "2022-02-14T16:20:18.510772Z",
     "iopub.status.idle": "2022-02-14T16:20:18.513647Z",
     "shell.execute_reply": "2022-02-14T16:20:18.514081Z"
    }
   },
   "outputs": [],
   "source": [
    "header_logo = dp.HTML(\n",
    "    \"\"\"\n",
    "    <html>\n",
    "        <style type='text/css'>\n",
    "            .images {\n",
    "                display:flex;\n",
    "                justify-content:center;\n",
    "                align-items:center;\n",
    "            }\n",
    "            .images img {\n",
    "                margin-left:5px;\n",
    "                margin-right:5px;\n",
    "            }\n",
    "        </style>\n",
    "        \n",
    "        <center>\n",
    "            <div class='images'>\n",
    "                <img src='\"\"\" + datapane + \"\"\"' width=\"75\"/>\n",
    "                <img src='\"\"\" + nyt + \"\"\"' width=\"100\"/>\n",
    "                <img src='\"\"\" + espn + \"\"\"' width=\"75\"/>\n",
    "                <img src='\"\"\" + spotify + \"\"\"' width=\"75\"/>\n",
    "                <img src='\"\"\" + _538 + \"\"\"' width=\"75\"/>\n",
    "                <img src='\"\"\" + lichess + \"\"\"' width=\"75\"/>\n",
    "            </div>\n",
    "        </center>\n",
    "    </html>\n",
    "    \"\"\"\n",
    ")"
   ]
  },
  {
   "cell_type": "code",
   "execution_count": 17,
   "metadata": {
    "execution": {
     "iopub.execute_input": "2022-02-14T16:20:18.519112Z",
     "iopub.status.busy": "2022-02-14T16:20:18.518415Z",
     "iopub.status.idle": "2022-02-14T16:20:18.524779Z",
     "shell.execute_reply": "2022-02-14T16:20:18.523672Z"
    }
   },
   "outputs": [],
   "source": [
    "header_text = dp.HTML(\n",
    "    \"\"\"\n",
    "    <html>\n",
    "        <style type='text/css'>\n",
    "            @keyframes rotate {\n",
    "                0%   {color: #EEE;}\n",
    "                25%  {color: #EC4899;}\n",
    "                50%  {color: #8B5CF6;}\n",
    "                100% {color: #EF4444;}\n",
    "            }\n",
    "            h1 {\n",
    "                color:#eee;\n",
    "                animation-name: rotate;\n",
    "                animation-duration: 4s;\n",
    "                animation-iteration-count: infinite;\n",
    "            }\n",
    "        </style>\n",
    "        <center>\n",
    "            <h1>Morning Scoop</h1>\n",
    "            <i>\"\"\" + TODAY.strftime('%A, %B %d, %Y') + \"\"\"<i>\n",
    "        </center>\n",
    "    </html>\n",
    "    \"\"\"\n",
    ")"
   ]
  },
  {
   "cell_type": "code",
   "execution_count": 18,
   "metadata": {
    "execution": {
     "iopub.execute_input": "2022-02-14T16:20:18.529484Z",
     "iopub.status.busy": "2022-02-14T16:20:18.528779Z",
     "iopub.status.idle": "2022-02-14T16:20:18.531506Z",
     "shell.execute_reply": "2022-02-14T16:20:18.531936Z"
    }
   },
   "outputs": [],
   "source": [
    "header_description = dp.Text(\n",
    "    \"\"\"\n",
    "Welcome to the Morning Scoop! This project is aimed to aggregate and display an eclectic and wide-ranging mix of information, data, and visualizations. Information sources include The New York Times, ESPN, FiveThirtyEight, and many more. Enjoy!\n",
    "\n",
    "This report is powered by Datapane.\n",
    "\n",
    "    \"\"\".strip()\n",
    ")"
   ]
  },
  {
   "cell_type": "markdown",
   "metadata": {},
   "source": [
    "### 1.2 Main Selector <a class=\"anchor\" id=\"selector\"></a>"
   ]
  },
  {
   "cell_type": "markdown",
   "metadata": {},
   "source": [
    "[Table of Contents](#toc)"
   ]
  },
  {
   "cell_type": "markdown",
   "metadata": {},
   "source": [
    "#### 1.2.1 Sports Results and Analytics <a class=\"anchor\" id=\"espn\"></a>"
   ]
  },
  {
   "cell_type": "markdown",
   "metadata": {},
   "source": [
    "Scores/Analytics/YouTube Highlights"
   ]
  },
  {
   "cell_type": "code",
   "execution_count": 19,
   "metadata": {
    "execution": {
     "iopub.execute_input": "2022-02-14T16:20:18.539161Z",
     "iopub.status.busy": "2022-02-14T16:20:18.537617Z",
     "iopub.status.idle": "2022-02-14T16:20:20.248102Z",
     "shell.execute_reply": "2022-02-14T16:20:20.248695Z"
    },
    "scrolled": true
   },
   "outputs": [
    {
     "name": "stdout",
     "output_type": "stream",
     "text": [
      "espn.py (Line: ~400) || CustomError: No Stats/Leaders for BHA @ MAN; OK.\n"
     ]
    }
   ],
   "source": [
    "try: \n",
    "    espn_results = list(map(\n",
    "        scores, ESPN_SPORTS.items()\n",
    "    ))\n",
    "    espn_results = list(map(\n",
    "        lambda result: [dp.Text('No games played yesterday...')] if result == [] else result, espn_results\n",
    "    ))\n",
    "except:\n",
    "    print(\n",
    "        ErrorHandler(\"Failed to get ESPN Results\", *get_error_info())\n",
    "    )\n",
    "    exit(0)"
   ]
  },
  {
   "cell_type": "markdown",
   "metadata": {},
   "source": [
    "Upcoming Schedule"
   ]
  },
  {
   "cell_type": "code",
   "execution_count": 20,
   "metadata": {
    "scrolled": true
   },
   "outputs": [],
   "source": [
    "try:   \n",
    "    espn_upcoming = list(map(\n",
    "        lambda sport: scores(sport, upcoming=True), ESPN_SPORTS.items()\n",
    "    ))\n",
    "    espn_upcoming = list(map(\n",
    "        lambda game: [dp.Text('No upcoming games today...')] if game == [] else game, espn_upcoming\n",
    "    ))\n",
    "except:\n",
    "    print(\n",
    "        ErrorHandler(\"Failed to get ESPN Schedule\", *get_error_info())\n",
    "    )\n",
    "    exit(0)"
   ]
  },
  {
   "cell_type": "markdown",
   "metadata": {},
   "source": [
    "Standings"
   ]
  },
  {
   "cell_type": "code",
   "execution_count": 21,
   "metadata": {},
   "outputs": [],
   "source": [
    "# records = list(map(\n",
    "#     standings, ESPN_SPORTS.items()\n",
    "# ))"
   ]
  },
  {
   "cell_type": "markdown",
   "metadata": {},
   "source": [
    "##### Compiled ESPN Group"
   ]
  },
  {
   "cell_type": "code",
   "execution_count": 22,
   "metadata": {},
   "outputs": [],
   "source": [
    "espn_groups = list(map(\n",
    "    group_sport, ESPN_SPORTS.keys(), espn_results, espn_upcoming\n",
    "))"
   ]
  },
  {
   "cell_type": "markdown",
   "metadata": {},
   "source": [
    "#### 1.2.2 Top World News <a class=\"anchor\" id=\"nyt\"></a>"
   ]
  },
  {
   "cell_type": "code",
   "execution_count": 23,
   "metadata": {
    "execution": {
     "iopub.execute_input": "2022-02-14T16:20:20.278035Z",
     "iopub.status.busy": "2022-02-14T16:20:20.277002Z",
     "iopub.status.idle": "2022-02-14T16:20:20.830119Z",
     "shell.execute_reply": "2022-02-14T16:20:20.829502Z"
    }
   },
   "outputs": [],
   "source": [
    "articles = top_stories(NYT_KEY)"
   ]
  },
  {
   "cell_type": "code",
   "execution_count": 24,
   "metadata": {
    "execution": {
     "iopub.execute_input": "2022-02-14T16:20:20.846941Z",
     "iopub.status.busy": "2022-02-14T16:20:20.846367Z",
     "iopub.status.idle": "2022-02-14T16:20:20.850650Z",
     "shell.execute_reply": "2022-02-14T16:20:20.851214Z"
    }
   },
   "outputs": [],
   "source": [
    "articles = articles.loc[articles['item_type'] != 'Promo']\n",
    "articles = articles.loc[articles['multimedia'].str.len() >= 1]\n",
    "articles['multimedia'] = articles['multimedia'].str[0].str['url']\n",
    "articles['subsection'] = articles['subsection'].replace('', 'miscellaneous')"
   ]
  },
  {
   "cell_type": "code",
   "execution_count": 25,
   "metadata": {
    "execution": {
     "iopub.execute_input": "2022-02-14T16:20:20.862063Z",
     "iopub.status.busy": "2022-02-14T16:20:20.861172Z",
     "iopub.status.idle": "2022-02-14T16:20:20.864250Z",
     "shell.execute_reply": "2022-02-14T16:20:20.864763Z"
    }
   },
   "outputs": [],
   "source": [
    "grouped_articles = articles.groupby(\n",
    "    'subsection',\n",
    "    axis=0\n",
    ")"
   ]
  },
  {
   "cell_type": "code",
   "execution_count": 26,
   "metadata": {
    "execution": {
     "iopub.execute_input": "2022-02-14T16:20:20.869416Z",
     "iopub.status.busy": "2022-02-14T16:20:20.868775Z",
     "iopub.status.idle": "2022-02-14T16:20:20.917888Z",
     "shell.execute_reply": "2022-02-14T16:20:20.918381Z"
    }
   },
   "outputs": [],
   "source": [
    "ordered_groups = grouped_articles.size().sort_values(ascending=False)"
   ]
  },
  {
   "cell_type": "code",
   "execution_count": 27,
   "metadata": {
    "execution": {
     "iopub.execute_input": "2022-02-14T16:20:20.923961Z",
     "iopub.status.busy": "2022-02-14T16:20:20.922896Z",
     "iopub.status.idle": "2022-02-14T16:20:20.943251Z",
     "shell.execute_reply": "2022-02-14T16:20:20.943781Z"
    }
   },
   "outputs": [],
   "source": [
    "article_sections = list(map(\n",
    "    partial(format_sections, grouped_articles), ordered_groups.index\n",
    "))"
   ]
  },
  {
   "cell_type": "code",
   "execution_count": 28,
   "metadata": {
    "execution": {
     "iopub.execute_input": "2022-02-14T16:20:20.948829Z",
     "iopub.status.busy": "2022-02-14T16:20:20.947703Z",
     "iopub.status.idle": "2022-02-14T16:20:20.951871Z",
     "shell.execute_reply": "2022-02-14T16:20:20.951381Z"
    }
   },
   "outputs": [],
   "source": [
    "# TODO Article Links"
   ]
  },
  {
   "cell_type": "markdown",
   "metadata": {},
   "source": [
    "#### 1.2.3 Stock Market <a class=\"anchor\" id=\"finnhub\"></a>"
   ]
  },
  {
   "cell_type": "markdown",
   "metadata": {},
   "source": [
    "##### Ticker Scroll"
   ]
  },
  {
   "cell_type": "code",
   "execution_count": 29,
   "metadata": {
    "execution": {
     "iopub.execute_input": "2022-02-14T16:20:20.962489Z",
     "iopub.status.busy": "2022-02-14T16:20:20.961075Z",
     "iopub.status.idle": "2022-02-14T16:20:24.979975Z",
     "shell.execute_reply": "2022-02-14T16:20:24.980812Z"
    }
   },
   "outputs": [],
   "source": [
    "t100 = robinhood.markets.get_top_100()\n",
    "t100 = pd.DataFrame(t100)"
   ]
  },
  {
   "cell_type": "code",
   "execution_count": 30,
   "metadata": {
    "execution": {
     "iopub.execute_input": "2022-02-14T16:20:24.993819Z",
     "iopub.status.busy": "2022-02-14T16:20:24.992413Z",
     "iopub.status.idle": "2022-02-14T16:20:24.995772Z",
     "shell.execute_reply": "2022-02-14T16:20:24.996201Z"
    }
   },
   "outputs": [],
   "source": [
    "scroll_objects = t100[['last_trade_price', 'previous_close', 'symbol']].apply(\n",
    "    get_scroll_objects, axis=1\n",
    ")"
   ]
  },
  {
   "cell_type": "code",
   "execution_count": 31,
   "metadata": {
    "execution": {
     "iopub.execute_input": "2022-02-14T16:20:25.002837Z",
     "iopub.status.busy": "2022-02-14T16:20:25.001945Z",
     "iopub.status.idle": "2022-02-14T16:20:25.007167Z",
     "shell.execute_reply": "2022-02-14T16:20:25.008310Z"
    }
   },
   "outputs": [],
   "source": [
    "scroll = dp.HTML(\n",
    "    \"\"\"\n",
    "    <html>\n",
    "        <style type='text/css'>\n",
    "            body {\n",
    "                background: #FFFFFF;\n",
    "            }\n",
    "            \n",
    "            .news-scroll a {\n",
    "                font-size: 16px;\n",
    "                text-decoration: none;\n",
    "                color: #000000;\n",
    "            }\n",
    "            \n",
    "            .price {\n",
    "                font-size: 14px;\n",
    "            }\n",
    "            \n",
    "            .up {\n",
    "                font-size: 12px;\n",
    "                color: #228B22;\n",
    "            }\n",
    "            \n",
    "            .down {\n",
    "                font-size: 12px;\n",
    "                color: #D2042D;\n",
    "            }\n",
    "        </style>\n",
    "    \n",
    "        <div class=\"container mt-5\">\n",
    "            <div class=\"row\">\n",
    "                <div class=\"col-md-12\">\n",
    "                    <div class=\"d-flex justify-content-between align-items-center breaking-news bg-white\">\n",
    "                        <marquee class=\"news-scroll\" behavior=\"scroll\" direction=\"left\" onmouseover=\"this.stop();\" onmouseout=\"this.start();\">\"\"\" + \n",
    "                            ' '.join(scroll_objects) + \n",
    "                        \"\"\"</marquee>\n",
    "                    </div>\n",
    "                </div>\n",
    "            </div>\n",
    "        </div>\n",
    "    \n",
    "    </html>\n",
    "    \"\"\".strip()\n",
    ")"
   ]
  },
  {
   "cell_type": "markdown",
   "metadata": {},
   "source": [
    "##### FAANG and ETF Prices and Candlestick"
   ]
  },
  {
   "cell_type": "code",
   "execution_count": 32,
   "metadata": {
    "execution": {
     "iopub.execute_input": "2022-02-14T16:20:25.013420Z",
     "iopub.status.busy": "2022-02-14T16:20:25.012830Z",
     "iopub.status.idle": "2022-02-14T16:20:25.016784Z",
     "shell.execute_reply": "2022-02-14T16:20:25.017499Z"
    }
   },
   "outputs": [],
   "source": [
    "COLUMNS = 5\n",
    "TICKERS = [\n",
    "    'SPY', 'QQQ', 'XLF', 'IWM', 'BND',\n",
    "    'FB', 'AAPL', 'AMZN', 'NFLX', 'GOOG',\n",
    "]"
   ]
  },
  {
   "cell_type": "code",
   "execution_count": 33,
   "metadata": {
    "execution": {
     "iopub.execute_input": "2022-02-14T16:20:25.027592Z",
     "iopub.status.busy": "2022-02-14T16:20:25.026424Z",
     "iopub.status.idle": "2022-02-14T16:20:31.826753Z",
     "shell.execute_reply": "2022-02-14T16:20:31.827191Z"
    }
   },
   "outputs": [],
   "source": [
    "big_numbers = []\n",
    "figures = []\n",
    "\n",
    "for i, t in enumerate(TICKERS):\n",
    "    close, delta, delta_pct, high, low, open_, p_close, _ = quote(FINNHUB_KEY, t)\n",
    "    df = candles(FINNHUB_KEY, t)\n",
    "    \n",
    "    bn = dp.BigNumber(\n",
    "        heading=t,\n",
    "        value=f\"${round(close, 2)}\",\n",
    "        change=f\"{round(delta_pct, 2)}%\",\n",
    "        is_upward_change=True if delta_pct > 0 else False\n",
    "    )\n",
    "    big_numbers.append(bn)\n",
    "    \n",
    "    figure = candlestick(df, t)\n",
    "    figures.append(figure)"
   ]
  },
  {
   "cell_type": "code",
   "execution_count": 34,
   "metadata": {
    "execution": {
     "iopub.execute_input": "2022-02-14T16:20:31.833408Z",
     "iopub.status.busy": "2022-02-14T16:20:31.832340Z",
     "iopub.status.idle": "2022-02-14T16:20:31.834850Z",
     "shell.execute_reply": "2022-02-14T16:20:31.835438Z"
    }
   },
   "outputs": [],
   "source": [
    "ticker_groups = list(zip_longest(*(iter(big_numbers),) * COLUMNS, fillvalue=''))\n",
    "ticker_groups = [\n",
    "    dp.Group(columns=COLUMNS, *g) for g in ticker_groups\n",
    "]"
   ]
  },
  {
   "cell_type": "markdown",
   "metadata": {},
   "source": [
    "##### Scrape CNN Market"
   ]
  },
  {
   "cell_type": "code",
   "execution_count": 35,
   "metadata": {
    "execution": {
     "iopub.execute_input": "2022-02-14T16:20:31.842481Z",
     "iopub.status.busy": "2022-02-14T16:20:31.841737Z",
     "iopub.status.idle": "2022-02-14T16:20:32.059483Z",
     "shell.execute_reply": "2022-02-14T16:20:32.059013Z"
    }
   },
   "outputs": [],
   "source": [
    "cnn = 'https://money.cnn.com/data/markets'\n",
    "with requests.get(cnn) as page:\n",
    "    soup = BeautifulSoup(page.content, 'html.parser')"
   ]
  },
  {
   "cell_type": "code",
   "execution_count": 36,
   "metadata": {
    "execution": {
     "iopub.execute_input": "2022-02-14T16:20:32.070445Z",
     "iopub.status.busy": "2022-02-14T16:20:32.068013Z",
     "iopub.status.idle": "2022-02-14T16:20:32.073855Z",
     "shell.execute_reply": "2022-02-14T16:20:32.074557Z"
    }
   },
   "outputs": [],
   "source": [
    "modules = soup.find_all('div', class_='module')\n",
    "key_stats = soup.find('ul', class_='module-body wsod key-stats')"
   ]
  },
  {
   "cell_type": "code",
   "execution_count": 37,
   "metadata": {
    "execution": {
     "iopub.execute_input": "2022-02-14T16:20:32.083844Z",
     "iopub.status.busy": "2022-02-14T16:20:32.082859Z",
     "iopub.status.idle": "2022-02-14T16:20:32.085358Z",
     "shell.execute_reply": "2022-02-14T16:20:32.085823Z"
    }
   },
   "outputs": [],
   "source": [
    "pairs = list(map(format_modules, modules))\n",
    "pairs = list(filter(None, pairs))\n",
    "pairs = list(sum(pairs, ()))"
   ]
  },
  {
   "cell_type": "code",
   "execution_count": 38,
   "metadata": {
    "execution": {
     "iopub.execute_input": "2022-02-14T16:20:32.091137Z",
     "iopub.status.busy": "2022-02-14T16:20:32.090382Z",
     "iopub.status.idle": "2022-02-14T16:20:32.093472Z",
     "shell.execute_reply": "2022-02-14T16:20:32.094149Z"
    }
   },
   "outputs": [],
   "source": [
    "headers = pairs[::2]\n",
    "modules = pairs[1::2]"
   ]
  },
  {
   "cell_type": "code",
   "execution_count": 39,
   "metadata": {
    "execution": {
     "iopub.execute_input": "2022-02-14T16:20:32.099442Z",
     "iopub.status.busy": "2022-02-14T16:20:32.098756Z",
     "iopub.status.idle": "2022-02-14T16:20:32.101495Z",
     "shell.execute_reply": "2022-02-14T16:20:32.101959Z"
    }
   },
   "outputs": [],
   "source": [
    "module_groups = list(map(group_modules, headers, modules))"
   ]
  },
  {
   "cell_type": "markdown",
   "metadata": {},
   "source": [
    "##### Free Stock Search"
   ]
  },
  {
   "cell_type": "code",
   "execution_count": 40,
   "metadata": {
    "execution": {
     "iopub.execute_input": "2022-02-14T16:20:32.108551Z",
     "iopub.status.busy": "2022-02-14T16:20:32.107222Z",
     "iopub.status.idle": "2022-02-14T16:20:32.111164Z",
     "shell.execute_reply": "2022-02-14T16:20:32.111616Z"
    }
   },
   "outputs": [
    {
     "name": "stdout",
     "output_type": "stream",
     "text": [
      "CPU times: user 4 µs, sys: 1e+03 ns, total: 5 µs\n",
      "Wall time: 10 µs\n"
     ]
    }
   ],
   "source": [
    "%%time\n",
    "\n",
    "# sp500_figures = free_stock_search(FINNHUB_KEY)"
   ]
  },
  {
   "cell_type": "markdown",
   "metadata": {},
   "source": [
    "#### 1.2.4 Portfolio Performance <a class=\"anchor\" id=\"robinhood\"></a>"
   ]
  },
  {
   "cell_type": "markdown",
   "metadata": {},
   "source": [
    "Display Holdings"
   ]
  },
  {
   "cell_type": "code",
   "execution_count": 41,
   "metadata": {
    "execution": {
     "iopub.execute_input": "2022-02-14T16:20:32.117548Z",
     "iopub.status.busy": "2022-02-14T16:20:32.116468Z",
     "iopub.status.idle": "2022-02-14T16:20:33.067808Z",
     "shell.execute_reply": "2022-02-14T16:20:33.066883Z"
    }
   },
   "outputs": [],
   "source": [
    "ticks, data, portfolio = load_portfolio(robinhood)"
   ]
  },
  {
   "cell_type": "code",
   "execution_count": 42,
   "metadata": {
    "execution": {
     "iopub.execute_input": "2022-02-14T16:20:33.075746Z",
     "iopub.status.busy": "2022-02-14T16:20:33.075077Z",
     "iopub.status.idle": "2022-02-14T16:20:33.078302Z",
     "shell.execute_reply": "2022-02-14T16:20:33.078806Z"
    }
   },
   "outputs": [],
   "source": [
    "equity_tickers, etf_tickers, crypto_tickers = ticks\n",
    "tickers = equity_tickers + etf_tickers + crypto_tickers"
   ]
  },
  {
   "cell_type": "code",
   "execution_count": 43,
   "metadata": {
    "execution": {
     "iopub.execute_input": "2022-02-14T16:20:33.085243Z",
     "iopub.status.busy": "2022-02-14T16:20:33.084191Z",
     "iopub.status.idle": "2022-02-14T16:20:33.733313Z",
     "shell.execute_reply": "2022-02-14T16:20:33.734117Z"
    }
   },
   "outputs": [],
   "source": [
    "portfolio_toggles = list(\n",
    "    map(\n",
    "        lambda t, l: ticker_toggle(FINNHUB_KEY, t, l) if len(t) != 0 else None, \n",
    "        [equity_tickers, etf_tickers, crypto_tickers],\n",
    "        ['Equity', 'ETF', 'Crypto']\n",
    "    )\n",
    ")\n",
    "portfolio_toggles = list(filter(None, portfolio_toggles))"
   ]
  },
  {
   "cell_type": "markdown",
   "metadata": {},
   "source": [
    "Overall Portfolio"
   ]
  },
  {
   "cell_type": "code",
   "execution_count": 44,
   "metadata": {
    "execution": {
     "iopub.execute_input": "2022-02-14T16:20:33.743201Z",
     "iopub.status.busy": "2022-02-14T16:20:33.741997Z",
     "iopub.status.idle": "2022-02-14T16:20:33.831183Z",
     "shell.execute_reply": "2022-02-14T16:20:33.832213Z"
    }
   },
   "outputs": [],
   "source": [
    "crypto_prices = np.array([\n",
    "    float(robinhood.crypto.get_crypto_quote(t)['mark_price']) for t in crypto_tickers\n",
    "])\n",
    "crypto_quantity = data[2].quantity.astype(float).to_numpy()\n",
    "crypto_value = (crypto_prices * crypto_quantity)[0]"
   ]
  },
  {
   "cell_type": "code",
   "execution_count": 45,
   "metadata": {
    "execution": {
     "iopub.execute_input": "2022-02-14T16:20:33.839020Z",
     "iopub.status.busy": "2022-02-14T16:20:33.837824Z",
     "iopub.status.idle": "2022-02-14T16:20:33.841676Z",
     "shell.execute_reply": "2022-02-14T16:20:33.841184Z"
    }
   },
   "outputs": [],
   "source": [
    "mkt_value, prev_mkt_value = portfolio['market_value'], portfolio['last_core_market_value']\n",
    "mkt_value, prev_mkt_value = float(mkt_value), float(prev_mkt_value)\n",
    "delta_pct = mkt_value / prev_mkt_value - 1"
   ]
  },
  {
   "cell_type": "code",
   "execution_count": 46,
   "metadata": {
    "execution": {
     "iopub.execute_input": "2022-02-14T16:20:33.846500Z",
     "iopub.status.busy": "2022-02-14T16:20:33.845641Z",
     "iopub.status.idle": "2022-02-14T16:20:33.849379Z",
     "shell.execute_reply": "2022-02-14T16:20:33.848788Z"
    }
   },
   "outputs": [],
   "source": [
    "cash = float(portfolio['withdrawable_amount'])"
   ]
  },
  {
   "cell_type": "code",
   "execution_count": 47,
   "metadata": {
    "execution": {
     "iopub.execute_input": "2022-02-14T16:20:33.853864Z",
     "iopub.status.busy": "2022-02-14T16:20:33.853182Z",
     "iopub.status.idle": "2022-02-14T16:20:33.857285Z",
     "shell.execute_reply": "2022-02-14T16:20:33.856687Z"
    }
   },
   "outputs": [],
   "source": [
    "portfolio_value = mkt_value + crypto_value + cash"
   ]
  },
  {
   "cell_type": "code",
   "execution_count": 48,
   "metadata": {
    "execution": {
     "iopub.execute_input": "2022-02-14T16:20:33.863135Z",
     "iopub.status.busy": "2022-02-14T16:20:33.862277Z",
     "iopub.status.idle": "2022-02-14T16:20:33.865643Z",
     "shell.execute_reply": "2022-02-14T16:20:33.866083Z"
    }
   },
   "outputs": [],
   "source": [
    "portfolio_value = dp.BigNumber(\n",
    "    heading=\"Overall Portfolio\",\n",
    "    value=f\"${round(portfolio_value, 2)}\",\n",
    "    change=f\"{round(delta_pct, 2)}%\",\n",
    "    is_upward_change=True if delta_pct > 0 else False\n",
    ")\n",
    "cash = dp.BigNumber(\n",
    "    heading=\"Buying Power\",\n",
    "    value=f\"${round(cash, 2)}\"\n",
    ")"
   ]
  },
  {
   "cell_type": "markdown",
   "metadata": {},
   "source": [
    "Portfolio News"
   ]
  },
  {
   "cell_type": "code",
   "execution_count": 49,
   "metadata": {
    "execution": {
     "iopub.execute_input": "2022-02-14T16:20:33.870304Z",
     "iopub.status.busy": "2022-02-14T16:20:33.869621Z",
     "iopub.status.idle": "2022-02-14T16:20:33.873475Z",
     "shell.execute_reply": "2022-02-14T16:20:33.873013Z"
    }
   },
   "outputs": [],
   "source": [
    "portfolio_news = list(map(\n",
    "    lambda t: robinhood_news(robinhood, t), equity_tickers\n",
    "))\n",
    "portfolio_news = np.array(portfolio_news).flatten().tolist()"
   ]
  },
  {
   "cell_type": "markdown",
   "metadata": {},
   "source": [
    "Miscellaneous"
   ]
  },
  {
   "cell_type": "code",
   "execution_count": 50,
   "metadata": {
    "execution": {
     "iopub.execute_input": "2022-02-14T16:20:33.886171Z",
     "iopub.status.busy": "2022-02-14T16:20:33.885221Z",
     "iopub.status.idle": "2022-02-14T16:20:33.887488Z",
     "shell.execute_reply": "2022-02-14T16:20:33.888310Z"
    }
   },
   "outputs": [],
   "source": [
    "# robinhood.markets.get_market_next_open_hours('XNYS')"
   ]
  },
  {
   "cell_type": "code",
   "execution_count": 51,
   "metadata": {},
   "outputs": [],
   "source": [
    "TAGS = [\n",
    "    'technology', 'banking', 'energy'\n",
    "]"
   ]
  },
  {
   "cell_type": "code",
   "execution_count": 52,
   "metadata": {
    "execution": {
     "iopub.execute_input": "2022-02-14T16:20:33.894336Z",
     "iopub.status.busy": "2022-02-14T16:20:33.893301Z",
     "iopub.status.idle": "2022-02-14T16:20:33.896446Z",
     "shell.execute_reply": "2022-02-14T16:20:33.896944Z"
    }
   },
   "outputs": [],
   "source": [
    "# s = robinhood.markets.get_all_stocks_from_market_tag('energy')\n",
    "# s = pd.DataFrame(s) #.sort_values(by='last_trade_price', ascending=False)\n",
    "# # print(len(s))"
   ]
  },
  {
   "cell_type": "code",
   "execution_count": 53,
   "metadata": {
    "execution": {
     "iopub.execute_input": "2022-02-14T16:20:33.901313Z",
     "iopub.status.busy": "2022-02-14T16:20:33.900566Z",
     "iopub.status.idle": "2022-02-14T16:20:33.904531Z",
     "shell.execute_reply": "2022-02-14T16:20:33.903580Z"
    }
   },
   "outputs": [],
   "source": [
    "# movers = robinhood.markets.get_top_movers()\n",
    "# movers = pd.DataFrame(movers)\n",
    "# movers"
   ]
  },
  {
   "cell_type": "code",
   "execution_count": 54,
   "metadata": {
    "execution": {
     "iopub.execute_input": "2022-02-14T16:20:33.909898Z",
     "iopub.status.busy": "2022-02-14T16:20:33.909143Z",
     "iopub.status.idle": "2022-02-14T16:20:33.911130Z",
     "shell.execute_reply": "2022-02-14T16:20:33.911613Z"
    }
   },
   "outputs": [],
   "source": [
    "# movers_u = robinhood.markets.get_top_movers_sp500(direction='up')\n",
    "# movers_d = robinhood.markets.get_top_movers_sp500(direction='down')\n",
    "# movers_u = pd.DataFrame(movers_u)\n",
    "# movers_d = pd.DataFrame(movers_d)"
   ]
  },
  {
   "cell_type": "markdown",
   "metadata": {},
   "source": [
    "Portfolio Candlesticks"
   ]
  },
  {
   "cell_type": "code",
   "execution_count": 55,
   "metadata": {
    "execution": {
     "iopub.execute_input": "2022-02-14T16:20:33.917633Z",
     "iopub.status.busy": "2022-02-14T16:20:33.916628Z",
     "iopub.status.idle": "2022-02-14T16:20:36.582344Z",
     "shell.execute_reply": "2022-02-14T16:20:36.582765Z"
    }
   },
   "outputs": [],
   "source": [
    "portfolio_candles = list(map(\n",
    "    partial(candles, FINNHUB_KEY), tickers\n",
    "))\n",
    "portfolio_figures = list(map(\n",
    "    candlestick, portfolio_candles, tickers\n",
    "))"
   ]
  },
  {
   "cell_type": "markdown",
   "metadata": {},
   "source": [
    "#### 1.2.5 Data Exploration and Visualization <a class=\"anchor\" id=\"data\"></a>"
   ]
  },
  {
   "cell_type": "markdown",
   "metadata": {},
   "source": [
    "##### Five Thirty Eight"
   ]
  },
  {
   "cell_type": "code",
   "execution_count": 56,
   "metadata": {
    "execution": {
     "iopub.execute_input": "2022-02-14T16:20:36.589228Z",
     "iopub.status.busy": "2022-02-14T16:20:36.587464Z",
     "iopub.status.idle": "2022-02-14T16:20:36.592405Z",
     "shell.execute_reply": "2022-02-14T16:20:36.593083Z"
    }
   },
   "outputs": [],
   "source": [
    "NBA_ELO = 'https://projects.fivethirtyeight.com/nba-model/nba_elo.csv'\n",
    "NFL_ELO = 'https://projects.fivethirtyeight.com/nfl-api/nfl_elo.csv'\n",
    "MLB_ELO = 'https://projects.fivethirtyeight.com/mlb-api/mlb_elo.csv'\n",
    "ELO_LINKS = [\n",
    "    NBA_ELO, NFL_ELO, MLB_ELO\n",
    "]"
   ]
  },
  {
   "cell_type": "code",
   "execution_count": 57,
   "metadata": {
    "execution": {
     "iopub.execute_input": "2022-02-14T16:20:36.598518Z",
     "iopub.status.busy": "2022-02-14T16:20:36.597873Z",
     "iopub.status.idle": "2022-02-14T16:20:36.600633Z",
     "shell.execute_reply": "2022-02-14T16:20:36.601093Z"
    }
   },
   "outputs": [],
   "source": [
    "YEAR = 2021\n",
    "NCAA = f'https://projects.fivethirtyeight.com/march-madness-api/{YEAR}/fivethirtyeight_ncaa_forecasts.csv'\n",
    "POLLS = 'https://github.com/fivethirtyeight/data/tree/master/polls'"
   ]
  },
  {
   "cell_type": "code",
   "execution_count": 58,
   "metadata": {
    "execution": {
     "iopub.execute_input": "2022-02-14T16:20:36.608651Z",
     "iopub.status.busy": "2022-02-14T16:20:36.607647Z",
     "iopub.status.idle": "2022-02-14T16:20:56.103681Z",
     "shell.execute_reply": "2022-02-14T16:20:56.104139Z"
    }
   },
   "outputs": [
    {
     "name": "stdout",
     "output_type": "stream",
     "text": [
      "CPU times: user 14.6 s, sys: 931 ms, total: 15.5 s\n",
      "Wall time: 21.3 s\n"
     ]
    }
   ],
   "source": [
    "%%time\n",
    "\n",
    "_538_figures = list(map(\n",
    "    plot_elo, ELO_LINKS\n",
    "))"
   ]
  },
  {
   "cell_type": "code",
   "execution_count": 59,
   "metadata": {
    "execution": {
     "iopub.execute_input": "2022-02-14T16:20:56.109709Z",
     "iopub.status.busy": "2022-02-14T16:20:56.106581Z",
     "iopub.status.idle": "2022-02-14T16:20:56.114234Z",
     "shell.execute_reply": "2022-02-14T16:20:56.113717Z"
    }
   },
   "outputs": [],
   "source": [
    "# TODO Clean and Style Graphs\n",
    "    # Restyle Color\n",
    "# TODO Header Blocks --> Intro ELO and By Sport\n",
    "# Incorporate March Madness and ~Polls~"
   ]
  },
  {
   "cell_type": "markdown",
   "metadata": {},
   "source": [
    "##### Spotify"
   ]
  },
  {
   "cell_type": "code",
   "execution_count": 60,
   "metadata": {
    "execution": {
     "iopub.execute_input": "2022-02-14T16:20:56.119908Z",
     "iopub.status.busy": "2022-02-14T16:20:56.118866Z",
     "iopub.status.idle": "2022-02-14T16:20:56.121654Z",
     "shell.execute_reply": "2022-02-14T16:20:56.122206Z"
    }
   },
   "outputs": [],
   "source": [
    "TOP50 = '37i9dQZEVXbLRQDuF5jeBp'\n",
    "MIX1 = '37i9dQZF1E35bNzojVbMHG'\n",
    "MIX2 = '37i9dQZF1E38sJU7OsGSQi'\n",
    "MIX3 = '37i9dQZF1E37xnKwvD1GJE'\n",
    "\n",
    "PLAYLISTS = [\n",
    "    TOP50, MIX1, MIX2, MIX3\n",
    "]"
   ]
  },
  {
   "cell_type": "code",
   "execution_count": 61,
   "metadata": {
    "execution": {
     "iopub.execute_input": "2022-02-14T16:20:56.128292Z",
     "iopub.status.busy": "2022-02-14T16:20:56.126670Z",
     "iopub.status.idle": "2022-02-14T16:20:56.131638Z",
     "shell.execute_reply": "2022-02-14T16:20:56.132156Z"
    }
   },
   "outputs": [],
   "source": [
    "HEADERS = {\n",
    "    'Authorization': 'Bearer {token}'.format(token=access_token)\n",
    "}"
   ]
  },
  {
   "cell_type": "code",
   "execution_count": 62,
   "metadata": {
    "execution": {
     "iopub.execute_input": "2022-02-14T16:20:56.136652Z",
     "iopub.status.busy": "2022-02-14T16:20:56.136074Z",
     "iopub.status.idle": "2022-02-14T16:20:56.138753Z",
     "shell.execute_reply": "2022-02-14T16:20:56.139217Z"
    }
   },
   "outputs": [],
   "source": [
    "playlists_html = list(map(get_spotify_embed, PLAYLISTS))"
   ]
  },
  {
   "cell_type": "code",
   "execution_count": 63,
   "metadata": {
    "execution": {
     "iopub.execute_input": "2022-02-14T16:20:56.145126Z",
     "iopub.status.busy": "2022-02-14T16:20:56.144466Z",
     "iopub.status.idle": "2022-02-14T16:20:56.149413Z",
     "shell.execute_reply": "2022-02-14T16:20:56.149845Z"
    }
   },
   "outputs": [],
   "source": [
    "# TODO Correct Embedding..."
   ]
  },
  {
   "cell_type": "markdown",
   "metadata": {},
   "source": [
    "##### Lichess"
   ]
  },
  {
   "cell_type": "code",
   "execution_count": 64,
   "metadata": {
    "execution": {
     "iopub.execute_input": "2022-02-14T16:20:56.153554Z",
     "iopub.status.busy": "2022-02-14T16:20:56.152138Z",
     "iopub.status.idle": "2022-02-14T16:20:56.156698Z",
     "shell.execute_reply": "2022-02-14T16:20:56.157406Z"
    }
   },
   "outputs": [],
   "source": [
    "# TODO Top Player Matches"
   ]
  },
  {
   "cell_type": "markdown",
   "metadata": {},
   "source": [
    "##### COVID"
   ]
  },
  {
   "cell_type": "markdown",
   "metadata": {},
   "source": [
    "US KPIs"
   ]
  },
  {
   "cell_type": "code",
   "execution_count": 65,
   "metadata": {
    "execution": {
     "iopub.execute_input": "2022-02-14T16:20:56.165696Z",
     "iopub.status.busy": "2022-02-14T16:20:56.164700Z",
     "iopub.status.idle": "2022-02-14T16:20:56.553542Z",
     "shell.execute_reply": "2022-02-14T16:20:56.554225Z"
    }
   },
   "outputs": [],
   "source": [
    "usa_link = f'https://api.covidactnow.org/v2/country/US.json?apiKey={COVID_KEY}'\n",
    "with requests.get(usa_link) as r:\n",
    "    usa = r.json()"
   ]
  },
  {
   "cell_type": "code",
   "execution_count": 66,
   "metadata": {
    "execution": {
     "iopub.execute_input": "2022-02-14T16:20:56.560908Z",
     "iopub.status.busy": "2022-02-14T16:20:56.560249Z",
     "iopub.status.idle": "2022-02-14T16:20:56.562836Z",
     "shell.execute_reply": "2022-02-14T16:20:56.563269Z"
    }
   },
   "outputs": [],
   "source": [
    "stats = usa['actuals']"
   ]
  },
  {
   "cell_type": "code",
   "execution_count": 67,
   "metadata": {
    "execution": {
     "iopub.execute_input": "2022-02-14T16:20:56.568560Z",
     "iopub.status.busy": "2022-02-14T16:20:56.567743Z",
     "iopub.status.idle": "2022-02-14T16:20:56.569970Z",
     "shell.execute_reply": "2022-02-14T16:20:56.570397Z"
    }
   },
   "outputs": [],
   "source": [
    "c, n_c, d, n_d = stats['cases'], stats['newCases'], stats['deaths'], stats['newDeaths']\n",
    "vax_rat = usa['metrics']['vaccinationsCompletedRatio']"
   ]
  },
  {
   "cell_type": "code",
   "execution_count": 68,
   "metadata": {
    "execution": {
     "iopub.execute_input": "2022-02-14T16:20:56.579908Z",
     "iopub.status.busy": "2022-02-14T16:20:56.579225Z",
     "iopub.status.idle": "2022-02-14T16:20:56.582716Z",
     "shell.execute_reply": "2022-02-14T16:20:56.582111Z"
    }
   },
   "outputs": [],
   "source": [
    "covid_kpi = dp.Group(\n",
    "    dp.BigNumber(\n",
    "        heading='Total Cases',\n",
    "        value=\"{:,}\".format(c),\n",
    "        change=f\"{round(n_c / c * 100, 2)}%\",\n",
    "        is_upward_change=True if n_c / c - 1 > 0 else False\n",
    "    ),\n",
    "    dp.BigNumber(\n",
    "        heading='Total Deaths',\n",
    "        value=\"{:,}\".format(d),\n",
    "        change=f\"{round(n_d / d * 100, 2)}%\",\n",
    "        is_upward_change=True if n_d / d - 1 > 0 else False\n",
    "    ),\n",
    "    dp.BigNumber(\n",
    "        heading='Vaccine Completion',\n",
    "        value=f\"{round(vax_rat * 100, 2)}%\"\n",
    "    ),\n",
    "    columns=3\n",
    ")"
   ]
  },
  {
   "cell_type": "markdown",
   "metadata": {},
   "source": [
    "County Choropleth"
   ]
  },
  {
   "cell_type": "code",
   "execution_count": 69,
   "metadata": {
    "execution": {
     "iopub.execute_input": "2022-02-14T16:20:56.588591Z",
     "iopub.status.busy": "2022-02-14T16:20:56.587668Z",
     "iopub.status.idle": "2022-02-14T16:20:57.167120Z",
     "shell.execute_reply": "2022-02-14T16:20:57.167558Z"
    }
   },
   "outputs": [],
   "source": [
    "geo_link = 'https://raw.githubusercontent.com/plotly/datasets/master/geojson-counties-fips.json'\n",
    "with requests.get(geo_link) as r:\n",
    "    geo_json = r.json()"
   ]
  },
  {
   "cell_type": "code",
   "execution_count": 70,
   "metadata": {
    "execution": {
     "iopub.execute_input": "2022-02-14T16:20:57.170856Z",
     "iopub.status.busy": "2022-02-14T16:20:57.170157Z",
     "iopub.status.idle": "2022-02-14T16:20:57.176663Z",
     "shell.execute_reply": "2022-02-14T16:20:57.178272Z"
    }
   },
   "outputs": [],
   "source": [
    "counties = f'https://api.covidactnow.org/v2/counties.json?apiKey={COVID_KEY}'"
   ]
  },
  {
   "cell_type": "code",
   "execution_count": 71,
   "metadata": {
    "execution": {
     "iopub.execute_input": "2022-02-14T16:20:57.186397Z",
     "iopub.status.busy": "2022-02-14T16:20:57.185200Z",
     "iopub.status.idle": "2022-02-14T16:20:58.585088Z",
     "shell.execute_reply": "2022-02-14T16:20:58.585517Z"
    }
   },
   "outputs": [],
   "source": [
    "with requests.get(counties) as r:\n",
    "    counties = pd.DataFrame(r.json())"
   ]
  },
  {
   "cell_type": "code",
   "execution_count": 72,
   "metadata": {
    "execution": {
     "iopub.execute_input": "2022-02-14T16:20:58.603819Z",
     "iopub.status.busy": "2022-02-14T16:20:58.590833Z",
     "iopub.status.idle": "2022-02-14T16:20:58.606476Z",
     "shell.execute_reply": "2022-02-14T16:20:58.607221Z"
    }
   },
   "outputs": [],
   "source": [
    "counties['cases'] = counties.actuals.str['cases']\n",
    "counties['case_ratio'] = counties.cases / counties.population\n",
    "counties['deaths'] = counties.actuals.str['deaths']\n",
    "counties['death_ratio'] = counties.deaths / counties.population\n",
    "counties['vaccine_ratio'] = counties.metrics.str['vaccinationsCompletedRatio']"
   ]
  },
  {
   "cell_type": "code",
   "execution_count": 73,
   "metadata": {
    "execution": {
     "iopub.execute_input": "2022-02-14T16:20:58.615029Z",
     "iopub.status.busy": "2022-02-14T16:20:58.614161Z",
     "iopub.status.idle": "2022-02-14T16:21:01.690242Z",
     "shell.execute_reply": "2022-02-14T16:21:01.690812Z"
    }
   },
   "outputs": [
    {
     "name": "stdout",
     "output_type": "stream",
     "text": [
      "CPU times: user 2.16 s, sys: 228 ms, total: 2.39 s\n",
      "Wall time: 3.06 s\n"
     ]
    }
   ],
   "source": [
    "%%time\n",
    "\n",
    "covid_fig = county_choropleth(counties, geo_json)"
   ]
  },
  {
   "cell_type": "markdown",
   "metadata": {},
   "source": [
    "Individual State Plots"
   ]
  },
  {
   "cell_type": "code",
   "execution_count": 74,
   "metadata": {
    "execution": {
     "iopub.execute_input": "2022-02-14T16:21:01.697356Z",
     "iopub.status.busy": "2022-02-14T16:21:01.696644Z",
     "iopub.status.idle": "2022-02-14T16:21:01.699831Z",
     "shell.execute_reply": "2022-02-14T16:21:01.699360Z"
    }
   },
   "outputs": [],
   "source": [
    "states = f'https://api.covidactnow.org/v2/states.timeseries.json?apiKey={COVID_KEY}'"
   ]
  },
  {
   "cell_type": "code",
   "execution_count": 75,
   "metadata": {
    "execution": {
     "iopub.execute_input": "2022-02-14T16:21:01.705904Z",
     "iopub.status.busy": "2022-02-14T16:21:01.705119Z",
     "iopub.status.idle": "2022-02-14T16:21:03.936767Z",
     "shell.execute_reply": "2022-02-14T16:21:03.937200Z"
    }
   },
   "outputs": [],
   "source": [
    "with requests.get(states) as r:\n",
    "    states = pd.DataFrame(r.json())"
   ]
  },
  {
   "cell_type": "code",
   "execution_count": 76,
   "metadata": {
    "execution": {
     "iopub.execute_input": "2022-02-14T16:21:03.948417Z",
     "iopub.status.busy": "2022-02-14T16:21:03.947792Z",
     "iopub.status.idle": "2022-02-14T16:21:30.131551Z",
     "shell.execute_reply": "2022-02-14T16:21:30.132075Z"
    }
   },
   "outputs": [
    {
     "name": "stdout",
     "output_type": "stream",
     "text": [
      "CPU times: user 19 s, sys: 380 ms, total: 19.4 s\n",
      "Wall time: 19.6 s\n"
     ]
    }
   ],
   "source": [
    "%%time\n",
    "\n",
    "covid_figures = list(map(\n",
    "    plot_state, states.state, states.actualsTimeseries\n",
    "))"
   ]
  },
  {
   "cell_type": "markdown",
   "metadata": {},
   "source": [
    "##### Data Exploration Compilation"
   ]
  },
  {
   "cell_type": "code",
   "execution_count": 77,
   "metadata": {
    "execution": {
     "iopub.execute_input": "2022-02-14T16:21:30.139628Z",
     "iopub.status.busy": "2022-02-14T16:21:30.138939Z",
     "iopub.status.idle": "2022-02-14T16:21:31.771210Z",
     "shell.execute_reply": "2022-02-14T16:21:31.770369Z"
    }
   },
   "outputs": [],
   "source": [
    "_538_group = dp.Toggle(\n",
    "    dp.Select(\n",
    "        *_538_figures\n",
    "    ),\n",
    "    label = 'Five Thirty Eight'\n",
    ")\n",
    "lichess_group = dp.Toggle(\n",
    "    dp.Text(\"Lichess\", label='A'),\n",
    "    label = 'Lichess'\n",
    ")\n",
    "spotify_group = dp.Toggle(\n",
    "    dp.Group(\n",
    "        *playlists_html,\n",
    "        columns=4\n",
    "    ),\n",
    "    label = 'Spotify'\n",
    ")\n",
    "covid_group = dp.Toggle(\n",
    "    covid_kpi,\n",
    "    dp.Divider(),\n",
    "    dp.Plot(\n",
    "        covid_fig\n",
    "    ),\n",
    "    dp.Divider(),\n",
    "    dp.Select(\n",
    "        *covid_figures\n",
    "    ),\n",
    "    label = 'COVID'\n",
    ")"
   ]
  },
  {
   "cell_type": "code",
   "execution_count": 78,
   "metadata": {
    "execution": {
     "iopub.execute_input": "2022-02-14T16:21:31.778164Z",
     "iopub.status.busy": "2022-02-14T16:21:31.776894Z",
     "iopub.status.idle": "2022-02-14T16:21:31.784450Z",
     "shell.execute_reply": "2022-02-14T16:21:31.784979Z"
    }
   },
   "outputs": [],
   "source": [
    "data_groups = [\n",
    "    covid_group,\n",
    "    _538_group\n",
    "#     spotify_group,\n",
    "#     lichess_group,\n",
    "]"
   ]
  },
  {
   "cell_type": "markdown",
   "metadata": {},
   "source": [
    "#### 1.2.6 Compiled Selector <a class=\"anchor\" id=\"compiled\"></a>"
   ]
  },
  {
   "cell_type": "code",
   "execution_count": 79,
   "metadata": {
    "execution": {
     "iopub.execute_input": "2022-02-14T16:21:31.796769Z",
     "iopub.status.busy": "2022-02-14T16:21:31.794861Z",
     "iopub.status.idle": "2022-02-14T16:21:31.799461Z",
     "shell.execute_reply": "2022-02-14T16:21:31.799938Z"
    }
   },
   "outputs": [],
   "source": [
    "sports = dp.Group(\n",
    "    dp.Select(\n",
    "        *espn_groups,\n",
    "        type=dp.SelectType.DROPDOWN\n",
    "    ),\n",
    "    label='Sports: Results and Analysis',\n",
    ")\n",
    "news = dp.Group(\n",
    "    dp.Select(*article_sections),\n",
    "    label='Top World News'\n",
    ")\n",
    "market = dp.Group(\n",
    "    scroll,\n",
    "    dp.Divider(),\n",
    "    *ticker_groups,\n",
    "    dp.Divider(),\n",
    "    dp.Select(\n",
    "        *figures\n",
    "    ),\n",
    "    dp.Divider(),\n",
    "    *module_groups[:2],\n",
    "    dp.Group(\n",
    "        *module_groups[2:],\n",
    "        columns=4\n",
    "    ),\n",
    "#     dp.Select(\n",
    "#         *sp500_figures\n",
    "#     ),\n",
    "    label='Stock Market'\n",
    ")\n",
    "portfolio = dp.Group(\n",
    "    dp.Group(\n",
    "        portfolio_value,\n",
    "        cash,\n",
    "        columns=2\n",
    "    ),\n",
    "    dp.Divider(),\n",
    "    *portfolio_toggles,\n",
    "    dp.Divider(),\n",
    "    dp.Select(\n",
    "        *portfolio_figures\n",
    "    ),\n",
    "    dp.Divider(),\n",
    "    dp.Group(\n",
    "        *portfolio_news,\n",
    "        columns=2\n",
    "    ),\n",
    "    label='Robinhood Portfolio'\n",
    ")\n",
    "data = dp.Group(\n",
    "    *data_groups,\n",
    "    label='Data Exploration'\n",
    ")"
   ]
  },
  {
   "cell_type": "code",
   "execution_count": 96,
   "metadata": {
    "execution": {
     "iopub.execute_input": "2022-02-14T16:21:31.806230Z",
     "iopub.status.busy": "2022-02-14T16:21:31.805558Z",
     "iopub.status.idle": "2022-02-14T16:21:31.807370Z",
     "shell.execute_reply": "2022-02-14T16:21:31.807873Z"
    }
   },
   "outputs": [],
   "source": [
    "main_select = dp.Select(\n",
    "    blocks=[\n",
    "        sports, news, market, portfolio #, data\n",
    "\n",
    "    ],\n",
    "    type=dp.SelectType.TABS,\n",
    "    label='selector'\n",
    ")"
   ]
  },
  {
   "cell_type": "markdown",
   "metadata": {},
   "source": [
    "### 1.3 Credits <a class=\"anchor\" id=\"credits\"></a>"
   ]
  },
  {
   "cell_type": "markdown",
   "metadata": {},
   "source": [
    "[Table of Contents](#toc)"
   ]
  },
  {
   "cell_type": "code",
   "execution_count": 97,
   "metadata": {
    "execution": {
     "iopub.execute_input": "2022-02-14T16:21:31.816549Z",
     "iopub.status.busy": "2022-02-14T16:21:31.815173Z",
     "iopub.status.idle": "2022-02-14T16:21:31.817861Z",
     "shell.execute_reply": "2022-02-14T16:21:31.818438Z"
    }
   },
   "outputs": [],
   "source": [
    "credits = dp.Text(\n",
    "    \"Report built by Iain Muir.\",\n",
    "    name='credits'\n",
    ")"
   ]
  },
  {
   "cell_type": "markdown",
   "metadata": {},
   "source": [
    "## 2. Datapane Report <a class=\"anchor\" id=\"report\"></a>"
   ]
  },
  {
   "cell_type": "markdown",
   "metadata": {},
   "source": [
    "[Table of Contents](#toc)"
   ]
  },
  {
   "cell_type": "code",
   "execution_count": 98,
   "metadata": {
    "execution": {
     "iopub.execute_input": "2022-02-14T16:21:31.824158Z",
     "iopub.status.busy": "2022-02-14T16:21:31.823225Z",
     "iopub.status.idle": "2022-02-14T16:21:31.825989Z",
     "shell.execute_reply": "2022-02-14T16:21:31.826728Z"
    }
   },
   "outputs": [],
   "source": [
    "BLOCKS = [\n",
    "    header_logo,\n",
    "    header_text,\n",
    "    header_description,\n",
    "    dp.Divider(),\n",
    "    main_select,\n",
    "    dp.Divider(),\n",
    "    credits\n",
    "]"
   ]
  },
  {
   "cell_type": "code",
   "execution_count": 99,
   "metadata": {
    "execution": {
     "iopub.execute_input": "2022-02-14T16:21:31.834672Z",
     "iopub.status.busy": "2022-02-14T16:21:31.833667Z",
     "iopub.status.idle": "2022-02-14T16:21:31.836108Z",
     "shell.execute_reply": "2022-02-14T16:21:31.836560Z"
    }
   },
   "outputs": [],
   "source": [
    "report = dp.Report(\n",
    "    blocks=BLOCKS\n",
    ")"
   ]
  },
  {
   "cell_type": "code",
   "execution_count": 100,
   "metadata": {
    "execution": {
     "iopub.execute_input": "2022-02-14T16:21:31.849799Z",
     "iopub.status.busy": "2022-02-14T16:21:31.849050Z",
     "iopub.status.idle": "2022-02-14T16:21:48.081463Z",
     "shell.execute_reply": "2022-02-14T16:21:48.082055Z"
    }
   },
   "outputs": [
    {
     "data": {
      "text/markdown": [
       "Uploading report and associated data - *please wait...*"
      ],
      "text/plain": [
       "<IPython.core.display.Markdown object>"
      ]
     },
     "metadata": {},
     "output_type": "display_data"
    },
    {
     "name": "stderr",
     "output_type": "stream",
     "text": [
      "{'document': ['Ensure this field has no more than 262143 characters.']}\n"
     ]
    },
    {
     "name": "stdout",
     "output_type": "stream",
     "text": [
      "23019337.py (Line: 2) || requests.exceptions.HTTPError: Report Upload Error; FATAL.\n"
     ]
    },
    {
     "data": {
      "text/markdown": [
       "Uploading report and associated data - *please wait...*"
      ],
      "text/plain": [
       "<IPython.core.display.Markdown object>"
      ]
     },
     "metadata": {},
     "output_type": "display_data"
    },
    {
     "name": "stderr",
     "output_type": "stream",
     "text": [
      "{'document': ['Ensure this field has no more than 262143 characters.']}\n"
     ]
    },
    {
     "ename": "HTTPError",
     "evalue": "400 Client Error: Bad Request for url: https://datapane.com/api/reports/",
     "output_type": "error",
     "traceback": [
      "\u001b[0;31m---------------------------------------------------------------------------\u001b[0m",
      "\u001b[0;31mHTTPError\u001b[0m                                 Traceback (most recent call last)",
      "Input \u001b[0;32mIn [100]\u001b[0m, in \u001b[0;36m<module>\u001b[0;34m\u001b[0m\n\u001b[1;32m      1\u001b[0m \u001b[38;5;28;01mtry\u001b[39;00m:\n\u001b[0;32m----> 2\u001b[0m     \u001b[43mreport\u001b[49m\u001b[38;5;241;43m.\u001b[39;49m\u001b[43mupload\u001b[49m\u001b[43m(\u001b[49m\n\u001b[1;32m      3\u001b[0m \u001b[43m        \u001b[49m\u001b[43mname\u001b[49m\u001b[38;5;241;43m=\u001b[39;49m\u001b[38;5;124;43m'\u001b[39;49m\u001b[38;5;124;43mInformation Aggregator\u001b[39;49m\u001b[38;5;124;43m'\u001b[39;49m\u001b[43m,\u001b[49m\u001b[43m \u001b[49m\n\u001b[1;32m      4\u001b[0m \u001b[43m        \u001b[49m\u001b[38;5;28;43mopen\u001b[39;49m\u001b[38;5;241;43m=\u001b[39;49m\u001b[38;5;28;43;01mFalse\u001b[39;49;00m\n\u001b[1;32m      5\u001b[0m \u001b[43m    \u001b[49m\u001b[43m)\u001b[49m\n\u001b[1;32m      6\u001b[0m \u001b[38;5;28;01mexcept\u001b[39;00m requests\u001b[38;5;241m.\u001b[39mexceptions\u001b[38;5;241m.\u001b[39mHTTPError:\n",
      "File \u001b[0;32m~/PycharmProjects/Desktop/PersonalProjects/Information-Aggregator/lib/python3.9/site-packages/datapane/client/api/report/core.py:420\u001b[0m, in \u001b[0;36mReport.upload\u001b[0;34m(self, name, description, source_url, visibility, tags, project, source_file, open, formatting, **kwargs)\u001b[0m\n\u001b[1;32m    418\u001b[0m display_msg(\u001b[38;5;124m\"\u001b[39m\u001b[38;5;124mUploading report and associated data - *please wait...*\u001b[39m\u001b[38;5;124m\"\u001b[39m)\n\u001b[0;32m--> 420\u001b[0m \u001b[38;5;28;43mself\u001b[39;49m\u001b[38;5;241;43m.\u001b[39;49m\u001b[43m_upload_report\u001b[49m\u001b[43m(\u001b[49m\n\u001b[1;32m    421\u001b[0m \u001b[43m    \u001b[49m\u001b[43mname\u001b[49m\u001b[43m,\u001b[49m\u001b[43m \u001b[49m\u001b[43mdescription\u001b[49m\u001b[43m,\u001b[49m\u001b[43m \u001b[49m\u001b[43msource_url\u001b[49m\u001b[43m,\u001b[49m\u001b[43m \u001b[49m\u001b[43mvisibility\u001b[49m\u001b[43m,\u001b[49m\u001b[43m \u001b[49m\u001b[43mtags\u001b[49m\u001b[43m,\u001b[49m\u001b[43m \u001b[49m\u001b[43mproject\u001b[49m\u001b[43m,\u001b[49m\u001b[43m \u001b[49m\u001b[43msource_file\u001b[49m\u001b[43m,\u001b[49m\u001b[43m \u001b[49m\u001b[43mformatting\u001b[49m\u001b[38;5;241;43m=\u001b[39;49m\u001b[43mformatting\u001b[49m\u001b[43m,\u001b[49m\u001b[43m \u001b[49m\u001b[38;5;241;43m*\u001b[39;49m\u001b[38;5;241;43m*\u001b[39;49m\u001b[43mkwargs\u001b[49m\n\u001b[1;32m    422\u001b[0m \u001b[43m\u001b[49m\u001b[43m)\u001b[49m\n\u001b[1;32m    424\u001b[0m \u001b[38;5;28;01mif\u001b[39;00m \u001b[38;5;28mopen\u001b[39m:\n",
      "File \u001b[0;32m~/PycharmProjects/Desktop/PersonalProjects/Information-Aggregator/lib/python3.9/site-packages/datapane/client/api/report/core.py:381\u001b[0m, in \u001b[0;36mReport._upload_report\u001b[0;34m(self, name, description, source_url, visibility, tags, project, source_file, formatting, **kwargs)\u001b[0m\n\u001b[1;32m    380\u001b[0m         files[\u001b[38;5;124m\"\u001b[39m\u001b[38;5;124msource_file\u001b[39m\u001b[38;5;124m\"\u001b[39m] \u001b[38;5;241m=\u001b[39m [output_file\u001b[38;5;241m.\u001b[39mfile]\n\u001b[0;32m--> 381\u001b[0m     res \u001b[38;5;241m=\u001b[39m \u001b[43mResource\u001b[49m\u001b[43m(\u001b[49m\u001b[38;5;28;43mself\u001b[39;49m\u001b[38;5;241;43m.\u001b[39;49m\u001b[43mendpoint\u001b[49m\u001b[43m)\u001b[49m\u001b[38;5;241;43m.\u001b[39;49m\u001b[43mpost_files\u001b[49m\u001b[43m(\u001b[49m\u001b[43mfiles\u001b[49m\u001b[43m,\u001b[49m\u001b[43m \u001b[49m\u001b[43mdocument\u001b[49m\u001b[38;5;241;43m=\u001b[39;49m\u001b[43mreport_str\u001b[49m\u001b[43m,\u001b[49m\u001b[43m \u001b[49m\u001b[38;5;241;43m*\u001b[39;49m\u001b[38;5;241;43m*\u001b[39;49m\u001b[43mkwargs\u001b[49m\u001b[43m)\u001b[49m\n\u001b[1;32m    383\u001b[0m \u001b[38;5;66;03m# Set dto based on new URL\u001b[39;00m\n",
      "File \u001b[0;32m~/PycharmProjects/Desktop/PersonalProjects/Information-Aggregator/lib/python3.9/site-packages/datapane/client/api/common.py:237\u001b[0m, in \u001b[0;36mResource.post_files\u001b[0;34m(self, files, **data)\u001b[0m\n\u001b[1;32m    236\u001b[0m     r \u001b[38;5;241m=\u001b[39m \u001b[38;5;28mself\u001b[39m\u001b[38;5;241m.\u001b[39msession\u001b[38;5;241m.\u001b[39mpost(\u001b[38;5;28mself\u001b[39m\u001b[38;5;241m.\u001b[39murl, data\u001b[38;5;241m=\u001b[39me, headers\u001b[38;5;241m=\u001b[39mextra_headers, timeout\u001b[38;5;241m=\u001b[39m\u001b[38;5;28mself\u001b[39m\u001b[38;5;241m.\u001b[39mtimeout)\n\u001b[0;32m--> 237\u001b[0m \u001b[38;5;28;01mreturn\u001b[39;00m \u001b[43m_process_res\u001b[49m\u001b[43m(\u001b[49m\u001b[43mr\u001b[49m\u001b[43m)\u001b[49m\n",
      "File \u001b[0;32m~/PycharmProjects/Desktop/PersonalProjects/Information-Aggregator/lib/python3.9/site-packages/datapane/client/api/common.py:135\u001b[0m, in \u001b[0;36m_process_res\u001b[0;34m(r, empty_ok)\u001b[0m\n\u001b[1;32m    134\u001b[0m             log\u001b[38;5;241m.\u001b[39merror(pprint\u001b[38;5;241m.\u001b[39mpformat(r\u001b[38;5;241m.\u001b[39mtext))\n\u001b[0;32m--> 135\u001b[0m \u001b[43mr\u001b[49m\u001b[38;5;241;43m.\u001b[39;49m\u001b[43mraise_for_status\u001b[49m\u001b[43m(\u001b[49m\u001b[43m)\u001b[49m\n\u001b[1;32m    137\u001b[0m \u001b[38;5;28;01mif\u001b[39;00m empty_ok \u001b[38;5;129;01mand\u001b[39;00m \u001b[38;5;129;01mnot\u001b[39;00m r\u001b[38;5;241m.\u001b[39mcontent:\n",
      "File \u001b[0;32m~/PycharmProjects/Desktop/PersonalProjects/Information-Aggregator/lib/python3.9/site-packages/requests/models.py:960\u001b[0m, in \u001b[0;36mResponse.raise_for_status\u001b[0;34m(self)\u001b[0m\n\u001b[1;32m    959\u001b[0m \u001b[38;5;28;01mif\u001b[39;00m http_error_msg:\n\u001b[0;32m--> 960\u001b[0m     \u001b[38;5;28;01mraise\u001b[39;00m HTTPError(http_error_msg, response\u001b[38;5;241m=\u001b[39m\u001b[38;5;28mself\u001b[39m)\n",
      "\u001b[0;31mHTTPError\u001b[0m: 400 Client Error: Bad Request for url: https://datapane.com/api/reports/",
      "\nDuring handling of the above exception, another exception occurred:\n",
      "\u001b[0;31mHTTPError\u001b[0m                                 Traceback (most recent call last)",
      "Input \u001b[0;32mIn [100]\u001b[0m, in \u001b[0;36m<module>\u001b[0;34m\u001b[0m\n\u001b[1;32m      7\u001b[0m \u001b[38;5;28mprint\u001b[39m(\n\u001b[1;32m      8\u001b[0m     ErrorHandler(\u001b[38;5;124m\"\u001b[39m\u001b[38;5;124mReport Upload Error; FATAL.\u001b[39m\u001b[38;5;124m\"\u001b[39m, \u001b[38;5;241m*\u001b[39mget_error_info())\n\u001b[1;32m      9\u001b[0m )\n\u001b[1;32m     10\u001b[0m time\u001b[38;5;241m.\u001b[39msleep(\u001b[38;5;241m5\u001b[39m)\n\u001b[0;32m---> 12\u001b[0m \u001b[43mreport\u001b[49m\u001b[38;5;241;43m.\u001b[39;49m\u001b[43mupload\u001b[49m\u001b[43m(\u001b[49m\n\u001b[1;32m     13\u001b[0m \u001b[43m    \u001b[49m\u001b[43mname\u001b[49m\u001b[38;5;241;43m=\u001b[39;49m\u001b[38;5;124;43m'\u001b[39;49m\u001b[38;5;124;43mInformation Aggregator\u001b[39;49m\u001b[38;5;124;43m'\u001b[39;49m\u001b[43m,\u001b[49m\u001b[43m \u001b[49m\n\u001b[1;32m     14\u001b[0m \u001b[43m    \u001b[49m\u001b[38;5;28;43mopen\u001b[39;49m\u001b[38;5;241;43m=\u001b[39;49m\u001b[38;5;28;43;01mFalse\u001b[39;49;00m\n\u001b[1;32m     15\u001b[0m \u001b[43m\u001b[49m\u001b[43m)\u001b[49m\n",
      "File \u001b[0;32m~/PycharmProjects/Desktop/PersonalProjects/Information-Aggregator/lib/python3.9/site-packages/datapane/client/api/report/core.py:420\u001b[0m, in \u001b[0;36mReport.upload\u001b[0;34m(self, name, description, source_url, visibility, tags, project, source_file, open, formatting, **kwargs)\u001b[0m\n\u001b[1;32m    403\u001b[0m \u001b[38;5;124;03m\"\"\"\u001b[39;00m\n\u001b[1;32m    404\u001b[0m \u001b[38;5;124;03mUpload the report document, including its attached assets, to the logged-in Datapane Server.\u001b[39;00m\n\u001b[1;32m    405\u001b[0m \n\u001b[0;32m   (...)\u001b[0m\n\u001b[1;32m    415\u001b[0m \u001b[38;5;124;03m    formatting: Set the basic styling for your report\u001b[39;00m\n\u001b[1;32m    416\u001b[0m \u001b[38;5;124;03m\"\"\"\u001b[39;00m\n\u001b[1;32m    418\u001b[0m display_msg(\u001b[38;5;124m\"\u001b[39m\u001b[38;5;124mUploading report and associated data - *please wait...*\u001b[39m\u001b[38;5;124m\"\u001b[39m)\n\u001b[0;32m--> 420\u001b[0m \u001b[38;5;28;43mself\u001b[39;49m\u001b[38;5;241;43m.\u001b[39;49m\u001b[43m_upload_report\u001b[49m\u001b[43m(\u001b[49m\n\u001b[1;32m    421\u001b[0m \u001b[43m    \u001b[49m\u001b[43mname\u001b[49m\u001b[43m,\u001b[49m\u001b[43m \u001b[49m\u001b[43mdescription\u001b[49m\u001b[43m,\u001b[49m\u001b[43m \u001b[49m\u001b[43msource_url\u001b[49m\u001b[43m,\u001b[49m\u001b[43m \u001b[49m\u001b[43mvisibility\u001b[49m\u001b[43m,\u001b[49m\u001b[43m \u001b[49m\u001b[43mtags\u001b[49m\u001b[43m,\u001b[49m\u001b[43m \u001b[49m\u001b[43mproject\u001b[49m\u001b[43m,\u001b[49m\u001b[43m \u001b[49m\u001b[43msource_file\u001b[49m\u001b[43m,\u001b[49m\u001b[43m \u001b[49m\u001b[43mformatting\u001b[49m\u001b[38;5;241;43m=\u001b[39;49m\u001b[43mformatting\u001b[49m\u001b[43m,\u001b[49m\u001b[43m \u001b[49m\u001b[38;5;241;43m*\u001b[39;49m\u001b[38;5;241;43m*\u001b[39;49m\u001b[43mkwargs\u001b[49m\n\u001b[1;32m    422\u001b[0m \u001b[43m\u001b[49m\u001b[43m)\u001b[49m\n\u001b[1;32m    424\u001b[0m \u001b[38;5;28;01mif\u001b[39;00m \u001b[38;5;28mopen\u001b[39m:\n\u001b[1;32m    425\u001b[0m     webbrowser\u001b[38;5;241m.\u001b[39mopen_new_tab(\u001b[38;5;28mself\u001b[39m\u001b[38;5;241m.\u001b[39mweb_url)\n",
      "File \u001b[0;32m~/PycharmProjects/Desktop/PersonalProjects/Information-Aggregator/lib/python3.9/site-packages/datapane/client/api/report/core.py:381\u001b[0m, in \u001b[0;36mReport._upload_report\u001b[0;34m(self, name, description, source_url, visibility, tags, project, source_file, formatting, **kwargs)\u001b[0m\n\u001b[1;32m    379\u001b[0m         process_notebook(Path(source_file), output_file\u001b[38;5;241m.\u001b[39mfile)\n\u001b[1;32m    380\u001b[0m         files[\u001b[38;5;124m\"\u001b[39m\u001b[38;5;124msource_file\u001b[39m\u001b[38;5;124m\"\u001b[39m] \u001b[38;5;241m=\u001b[39m [output_file\u001b[38;5;241m.\u001b[39mfile]\n\u001b[0;32m--> 381\u001b[0m     res \u001b[38;5;241m=\u001b[39m \u001b[43mResource\u001b[49m\u001b[43m(\u001b[49m\u001b[38;5;28;43mself\u001b[39;49m\u001b[38;5;241;43m.\u001b[39;49m\u001b[43mendpoint\u001b[49m\u001b[43m)\u001b[49m\u001b[38;5;241;43m.\u001b[39;49m\u001b[43mpost_files\u001b[49m\u001b[43m(\u001b[49m\u001b[43mfiles\u001b[49m\u001b[43m,\u001b[49m\u001b[43m \u001b[49m\u001b[43mdocument\u001b[49m\u001b[38;5;241;43m=\u001b[39;49m\u001b[43mreport_str\u001b[49m\u001b[43m,\u001b[49m\u001b[43m \u001b[49m\u001b[38;5;241;43m*\u001b[39;49m\u001b[38;5;241;43m*\u001b[39;49m\u001b[43mkwargs\u001b[49m\u001b[43m)\u001b[49m\n\u001b[1;32m    383\u001b[0m \u001b[38;5;66;03m# Set dto based on new URL\u001b[39;00m\n\u001b[1;32m    384\u001b[0m \u001b[38;5;28mself\u001b[39m\u001b[38;5;241m.\u001b[39murl \u001b[38;5;241m=\u001b[39m res\u001b[38;5;241m.\u001b[39murl\n",
      "File \u001b[0;32m~/PycharmProjects/Desktop/PersonalProjects/Information-Aggregator/lib/python3.9/site-packages/datapane/client/api/common.py:237\u001b[0m, in \u001b[0;36mResource.post_files\u001b[0;34m(self, files, **data)\u001b[0m\n\u001b[1;32m    235\u001b[0m \u001b[38;5;28;01melse\u001b[39;00m:\n\u001b[1;32m    236\u001b[0m     r \u001b[38;5;241m=\u001b[39m \u001b[38;5;28mself\u001b[39m\u001b[38;5;241m.\u001b[39msession\u001b[38;5;241m.\u001b[39mpost(\u001b[38;5;28mself\u001b[39m\u001b[38;5;241m.\u001b[39murl, data\u001b[38;5;241m=\u001b[39me, headers\u001b[38;5;241m=\u001b[39mextra_headers, timeout\u001b[38;5;241m=\u001b[39m\u001b[38;5;28mself\u001b[39m\u001b[38;5;241m.\u001b[39mtimeout)\n\u001b[0;32m--> 237\u001b[0m \u001b[38;5;28;01mreturn\u001b[39;00m \u001b[43m_process_res\u001b[49m\u001b[43m(\u001b[49m\u001b[43mr\u001b[49m\u001b[43m)\u001b[49m\n",
      "File \u001b[0;32m~/PycharmProjects/Desktop/PersonalProjects/Information-Aggregator/lib/python3.9/site-packages/datapane/client/api/common.py:135\u001b[0m, in \u001b[0;36m_process_res\u001b[0;34m(r, empty_ok)\u001b[0m\n\u001b[1;32m    133\u001b[0m         \u001b[38;5;28;01mexcept\u001b[39;00m \u001b[38;5;167;01mValueError\u001b[39;00m:\n\u001b[1;32m    134\u001b[0m             log\u001b[38;5;241m.\u001b[39merror(pprint\u001b[38;5;241m.\u001b[39mpformat(r\u001b[38;5;241m.\u001b[39mtext))\n\u001b[0;32m--> 135\u001b[0m \u001b[43mr\u001b[49m\u001b[38;5;241;43m.\u001b[39;49m\u001b[43mraise_for_status\u001b[49m\u001b[43m(\u001b[49m\u001b[43m)\u001b[49m\n\u001b[1;32m    137\u001b[0m \u001b[38;5;28;01mif\u001b[39;00m empty_ok \u001b[38;5;129;01mand\u001b[39;00m \u001b[38;5;129;01mnot\u001b[39;00m r\u001b[38;5;241m.\u001b[39mcontent:\n\u001b[1;32m    138\u001b[0m     r_data \u001b[38;5;241m=\u001b[39m {}\n",
      "File \u001b[0;32m~/PycharmProjects/Desktop/PersonalProjects/Information-Aggregator/lib/python3.9/site-packages/requests/models.py:960\u001b[0m, in \u001b[0;36mResponse.raise_for_status\u001b[0;34m(self)\u001b[0m\n\u001b[1;32m    957\u001b[0m     http_error_msg \u001b[38;5;241m=\u001b[39m \u001b[38;5;124mu\u001b[39m\u001b[38;5;124m'\u001b[39m\u001b[38;5;132;01m%s\u001b[39;00m\u001b[38;5;124m Server Error: \u001b[39m\u001b[38;5;132;01m%s\u001b[39;00m\u001b[38;5;124m for url: \u001b[39m\u001b[38;5;132;01m%s\u001b[39;00m\u001b[38;5;124m'\u001b[39m \u001b[38;5;241m%\u001b[39m (\u001b[38;5;28mself\u001b[39m\u001b[38;5;241m.\u001b[39mstatus_code, reason, \u001b[38;5;28mself\u001b[39m\u001b[38;5;241m.\u001b[39murl)\n\u001b[1;32m    959\u001b[0m \u001b[38;5;28;01mif\u001b[39;00m http_error_msg:\n\u001b[0;32m--> 960\u001b[0m     \u001b[38;5;28;01mraise\u001b[39;00m HTTPError(http_error_msg, response\u001b[38;5;241m=\u001b[39m\u001b[38;5;28mself\u001b[39m)\n",
      "\u001b[0;31mHTTPError\u001b[0m: 400 Client Error: Bad Request for url: https://datapane.com/api/reports/"
     ]
    }
   ],
   "source": [
    "try:\n",
    "    report.upload(\n",
    "        name='Information Aggregator', \n",
    "        open=False\n",
    "    )\n",
    "except requests.exceptions.HTTPError:\n",
    "    print(\n",
    "        ErrorHandler(\"Report Upload Error; FATAL.\", *get_error_info())\n",
    "    )\n",
    "    time.sleep(5)\n",
    "    \n",
    "    report.upload(\n",
    "        name='Information Aggregator', \n",
    "        open=False\n",
    "    )"
   ]
  },
  {
   "cell_type": "code",
   "execution_count": null,
   "metadata": {
    "execution": {
     "iopub.execute_input": "2022-02-14T16:21:48.089600Z",
     "iopub.status.busy": "2022-02-14T16:21:48.088787Z",
     "iopub.status.idle": "2022-02-14T16:21:56.726328Z",
     "shell.execute_reply": "2022-02-14T16:21:56.726762Z"
    }
   },
   "outputs": [],
   "source": [
    "report.save(\n",
    "    path=f'{ROOT}/Output/Information-Aggregator.html'\n",
    ")"
   ]
  },
  {
   "cell_type": "code",
   "execution_count": null,
   "metadata": {
    "execution": {
     "iopub.execute_input": "2022-02-14T16:21:56.745113Z",
     "iopub.status.busy": "2022-02-14T16:21:56.741341Z",
     "iopub.status.idle": "2022-02-14T16:21:57.376944Z",
     "shell.execute_reply": "2022-02-14T16:21:57.378366Z"
    }
   },
   "outputs": [],
   "source": [
    "webbrowser.open(\n",
    "    report.web_url\n",
    ")"
   ]
  },
  {
   "cell_type": "code",
   "execution_count": null,
   "metadata": {
    "execution": {
     "iopub.execute_input": "2022-02-14T16:21:57.409242Z",
     "iopub.status.busy": "2022-02-14T16:21:57.408030Z",
     "iopub.status.idle": "2022-02-14T16:21:57.551349Z",
     "shell.execute_reply": "2022-02-14T16:21:57.550378Z"
    }
   },
   "outputs": [],
   "source": [
    "Logging.write_success_to_log()"
   ]
  }
 ],
 "metadata": {
  "kernelspec": {
   "display_name": "Info-Agg",
   "language": "python",
   "name": "information-aggregator"
  },
  "language_info": {
   "codemirror_mode": {
    "name": "ipython",
    "version": 3
   },
   "file_extension": ".py",
   "mimetype": "text/x-python",
   "name": "python",
   "nbconvert_exporter": "python",
   "pygments_lexer": "ipython3",
   "version": "3.9.0"
  }
 },
 "nbformat": 4,
 "nbformat_minor": 4
}
