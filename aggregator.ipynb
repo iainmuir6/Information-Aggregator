{
 "cells": [
  {
   "cell_type": "markdown",
   "metadata": {},
   "source": [
    "# Information Aggregator"
   ]
  },
  {
   "cell_type": "markdown",
   "metadata": {},
   "source": [
    "#### Author: Iain Muir, iam9ez@virginia.edu  \n",
    "*Date: January 20th, 2021  \n",
    "Project: Information Aggregator Application — powered by Datapane*"
   ]
  },
  {
   "cell_type": "markdown",
   "metadata": {},
   "source": [
    "## Sources"
   ]
  },
  {
   "cell_type": "markdown",
   "metadata": {},
   "source": [
    "* **[Robinhood](https://robin-stocks.readthedocs.io/en/latest/index.html)**\n",
    "* **[Finnhub](https://finnhub.io/docs/api/)**\n",
    "* **[ESPN](https://gist.github.com/akeaswaran/b48b02f1c94f873c6655e7129910fc3b)**\n",
    "* **[The New York Times](https://developer.nytimes.com/apis)**\n",
    "* **[CNN Money](https://money.cnn.com/data/markets)**\n",
    "* **[FiveThirtyEight](https://data.fivethirtyeight.com/)**\n",
    "* **[COVID Act Now](https://apidocs.covidactnow.org/api)**\n",
    "* **[Lichess](https://lichess.org/api)**\n",
    "* **[Spotify](https://developer.spotify.com/documentation/)**\n",
    "* **[YouTube]()**"
   ]
  },
  {
   "cell_type": "markdown",
   "metadata": {},
   "source": [
    "## Table of Contents <a class=\"anchor\" id=\"toc\"></a>"
   ]
  },
  {
   "cell_type": "markdown",
   "metadata": {
    "execution": {
     "iopub.execute_input": "2022-02-01T17:36:00.730516Z",
     "iopub.status.busy": "2022-02-01T17:36:00.729491Z",
     "iopub.status.idle": "2022-02-01T17:36:00.743532Z",
     "shell.execute_reply": "2022-02-01T17:36:00.744113Z"
    }
   },
   "source": [
    "* **[0. Import Libraries and Secrets](#import)**  \n",
    "* **[1. Build Report Components](#build)**  \n",
    "    * [1.1 Header](#header)  \n",
    "    * [1.2 Main Selector](#selector)  \n",
    "        * *[1.2.1 Sports Results and Analytics](#espn)*  \n",
    "        * *[1.2.2 Top World News](#nyt)*  \n",
    "        * *[1.2.3 Stock Market](#finnhub)*  \n",
    "        * *[1.2.4 Portfolio Performance](#robinhood)*  \n",
    "        * *[1.2.5 Data Exploration](#data)*  \n",
    "        * *[1.2.6 Compiled Selector](#compiled)*  \n",
    "    * [1.3 Credits](#credits)  \n",
    "* **[2. Datapane Report](#report)**  "
   ]
  },
  {
   "cell_type": "markdown",
   "metadata": {},
   "source": [
    "## 0. Import Libraries and Secrets <a class=\"anchor\" id=\"import\"></a>"
   ]
  },
  {
   "cell_type": "markdown",
   "metadata": {},
   "source": [
    "[Table of Contents](#toc)"
   ]
  },
  {
   "cell_type": "markdown",
   "metadata": {},
   "source": [
    "Importing Standard Libraries..."
   ]
  },
  {
   "cell_type": "code",
   "execution_count": 1,
   "metadata": {
    "execution": {
     "iopub.execute_input": "2022-02-08T17:31:16.782134Z",
     "iopub.status.busy": "2022-02-08T17:31:16.780924Z",
     "iopub.status.idle": "2022-02-08T17:31:20.264692Z",
     "shell.execute_reply": "2022-02-08T17:31:20.265179Z"
    }
   },
   "outputs": [],
   "source": [
    "from itertools import zip_longest\n",
    "from bs4 import BeautifulSoup\n",
    "from functools import partial\n",
    "import datapane as dp\n",
    "import pandas as pd\n",
    "import numpy as np\n",
    "import webbrowser\n",
    "import datetime\n",
    "import requests\n",
    "import time\n",
    "import json"
   ]
  },
  {
   "cell_type": "markdown",
   "metadata": {},
   "source": [
    "Importing Modules..."
   ]
  },
  {
   "cell_type": "code",
   "execution_count": 2,
   "metadata": {
    "execution": {
     "iopub.execute_input": "2022-02-08T17:31:20.273780Z",
     "iopub.status.busy": "2022-02-08T17:31:20.272455Z",
     "iopub.status.idle": "2022-02-08T17:31:20.605610Z",
     "shell.execute_reply": "2022-02-08T17:31:20.606337Z"
    }
   },
   "outputs": [],
   "source": [
    "from robinhood import ticker_toggle, make_header, authenticate_, load_portfolio, get_scroll_objects\n",
    "from finnhub import quote, candles, candlestick, name_search, big_number, profile, news\n",
    "from espn import format_news, news, parse_team, format_scores, scores, group_sport\n",
    "from nyt import top_stories, semantics, format_article, format_sections\n",
    "from cnn_money import cnn_big_numbers, format_modules, group_modules\n",
    "from fivethirtyeight import active_teams, make_button, plot_elo\n",
    "from covid import county_choropleth, plot_state, altair_line\n",
    "from spotify import get_spotify_embed"
   ]
  },
  {
   "cell_type": "code",
   "execution_count": 3,
   "metadata": {
    "execution": {
     "iopub.execute_input": "2022-02-08T17:31:20.613521Z",
     "iopub.status.busy": "2022-02-08T17:31:20.611342Z",
     "iopub.status.idle": "2022-02-08T17:31:20.616598Z",
     "shell.execute_reply": "2022-02-08T17:31:20.617155Z"
    }
   },
   "outputs": [],
   "source": [
    "from errors import ErrorHandler, Logging, get_error_info "
   ]
  },
  {
   "cell_type": "code",
   "execution_count": 4,
   "metadata": {},
   "outputs": [],
   "source": [
    "from constants import ROOT, API_LOGOS, ESPN_SPORTS"
   ]
  },
  {
   "cell_type": "markdown",
   "metadata": {},
   "source": [
    "Checking Datapane version..."
   ]
  },
  {
   "cell_type": "code",
   "execution_count": 5,
   "metadata": {
    "execution": {
     "iopub.execute_input": "2022-02-08T17:31:20.626794Z",
     "iopub.status.busy": "2022-02-08T17:31:20.620084Z",
     "iopub.status.idle": "2022-02-08T17:31:24.668873Z",
     "shell.execute_reply": "2022-02-08T17:31:24.669320Z"
    }
   },
   "outputs": [],
   "source": [
    "version = !datapane --version"
   ]
  },
  {
   "cell_type": "code",
   "execution_count": 6,
   "metadata": {
    "execution": {
     "iopub.execute_input": "2022-02-08T17:31:24.679451Z",
     "iopub.status.busy": "2022-02-08T17:31:24.678508Z",
     "iopub.status.idle": "2022-02-08T17:31:24.681920Z",
     "shell.execute_reply": "2022-02-08T17:31:24.682609Z"
    }
   },
   "outputs": [],
   "source": [
    "assert version[0].split()[2] == '0.13.2'"
   ]
  },
  {
   "cell_type": "code",
   "execution_count": 7,
   "metadata": {
    "execution": {
     "iopub.execute_input": "2022-02-08T17:31:24.687810Z",
     "iopub.status.busy": "2022-02-08T17:31:24.687211Z",
     "iopub.status.idle": "2022-02-08T17:31:29.930357Z",
     "shell.execute_reply": "2022-02-08T17:31:29.931486Z"
    }
   },
   "outputs": [
    {
     "name": "stdout",
     "output_type": "stream",
     "text": [
      "\u001b[32mConnected successfully to https://datapane.com as iainmuir\u001b[0m\r\n"
     ]
    }
   ],
   "source": [
    "!datapane login --token=55010cebc170ecfbeddb82838c360776bf36f6be"
   ]
  },
  {
   "cell_type": "markdown",
   "metadata": {},
   "source": [
    "Open and Unpack Secrets File..."
   ]
  },
  {
   "cell_type": "code",
   "execution_count": 8,
   "metadata": {
    "execution": {
     "iopub.execute_input": "2022-02-08T17:31:29.941743Z",
     "iopub.status.busy": "2022-02-08T17:31:29.940520Z",
     "iopub.status.idle": "2022-02-08T17:31:29.945646Z",
     "shell.execute_reply": "2022-02-08T17:31:29.946089Z"
    }
   },
   "outputs": [],
   "source": [
    "with open('secrets.json') as s:\n",
    "    secrets = json.loads(s.read())"
   ]
  },
  {
   "cell_type": "code",
   "execution_count": 9,
   "metadata": {
    "execution": {
     "iopub.execute_input": "2022-02-08T17:31:29.954889Z",
     "iopub.status.busy": "2022-02-08T17:31:29.953365Z",
     "iopub.status.idle": "2022-02-08T17:31:29.957149Z",
     "shell.execute_reply": "2022-02-08T17:31:29.957711Z"
    }
   },
   "outputs": [],
   "source": [
    "# Datapane\n",
    "DATAPANE_KEY = secrets['datapane']\n",
    "    \n",
    "# Finnhub\n",
    "FINNHUB_KEY = secrets['finnhub']\n",
    "\n",
    "# Robinhood\n",
    "ROBIN_USERNAME, ROBIN_PASSWORD = secrets['robinhood'].values()\n",
    "\n",
    "# New York Times\n",
    "NYT_KEY,  NYT_SECRET, NYT_ID = secrets['nyt'].values()\n",
    "\n",
    "# Spotify\n",
    "SPOTIFY_SECRET, SPOTIFY_ID = secrets['spotify'].values()\n",
    "\n",
    "# COVID Act Now\n",
    "COVID_KEY = secrets['covid']"
   ]
  },
  {
   "cell_type": "code",
   "execution_count": 10,
   "metadata": {
    "execution": {
     "iopub.execute_input": "2022-02-08T17:31:29.965904Z",
     "iopub.status.busy": "2022-02-08T17:31:29.964919Z",
     "iopub.status.idle": "2022-02-08T17:31:30.125377Z",
     "shell.execute_reply": "2022-02-08T17:31:30.126450Z"
    }
   },
   "outputs": [],
   "source": [
    "AUTH_URL = 'https://accounts.spotify.com/api/token'\n",
    "auth_response = requests.post(\n",
    "    AUTH_URL, \n",
    "    {\n",
    "        'grant_type': 'client_credentials',\n",
    "        'client_id': SPOTIFY_ID,\n",
    "        'client_secret': SPOTIFY_SECRET\n",
    "    }\n",
    ")\n",
    "auth_response_data = auth_response.json()\n",
    "access_token = auth_response_data['access_token']"
   ]
  },
  {
   "cell_type": "code",
   "execution_count": 11,
   "metadata": {
    "execution": {
     "iopub.execute_input": "2022-02-08T17:31:30.132101Z",
     "iopub.status.busy": "2022-02-08T17:31:30.131122Z",
     "iopub.status.idle": "2022-02-08T17:31:30.345830Z",
     "shell.execute_reply": "2022-02-08T17:31:30.345338Z"
    }
   },
   "outputs": [],
   "source": [
    "robinhood = authenticate_(ROBIN_USERNAME, ROBIN_PASSWORD)"
   ]
  },
  {
   "cell_type": "markdown",
   "metadata": {},
   "source": [
    "## 1. Build Report Compenents <a class=\"anchor\" id=\"build\"></a>"
   ]
  },
  {
   "cell_type": "markdown",
   "metadata": {},
   "source": [
    "[Table of Contents](#toc)"
   ]
  },
  {
   "cell_type": "code",
   "execution_count": 12,
   "metadata": {
    "execution": {
     "iopub.execute_input": "2022-02-08T17:31:30.350290Z",
     "iopub.status.busy": "2022-02-08T17:31:30.349697Z",
     "iopub.status.idle": "2022-02-08T17:31:30.352655Z",
     "shell.execute_reply": "2022-02-08T17:31:30.353159Z"
    }
   },
   "outputs": [],
   "source": [
    "TODAY = datetime.date.today()"
   ]
  },
  {
   "cell_type": "markdown",
   "metadata": {},
   "source": [
    "### 1.1 Header <a class=\"anchor\" id=\"header\"></a>"
   ]
  },
  {
   "cell_type": "code",
   "execution_count": 13,
   "metadata": {
    "execution": {
     "iopub.execute_input": "2022-02-08T17:31:30.358299Z",
     "iopub.status.busy": "2022-02-08T17:31:30.357427Z",
     "iopub.status.idle": "2022-02-08T17:31:30.361174Z",
     "shell.execute_reply": "2022-02-08T17:31:30.361668Z"
    }
   },
   "outputs": [],
   "source": [
    "datapane, nyt, espn, spotify, _538, lichess = API_LOGOS.values()"
   ]
  },
  {
   "cell_type": "code",
   "execution_count": 14,
   "metadata": {
    "execution": {
     "iopub.execute_input": "2022-02-08T17:31:30.368231Z",
     "iopub.status.busy": "2022-02-08T17:31:30.367295Z",
     "iopub.status.idle": "2022-02-08T17:31:30.369810Z",
     "shell.execute_reply": "2022-02-08T17:31:30.370264Z"
    }
   },
   "outputs": [],
   "source": [
    "header_logo = dp.HTML(\n",
    "    \"\"\"\n",
    "    <html>\n",
    "        <style type='text/css'>\n",
    "            .images {\n",
    "                display:flex;\n",
    "                justify-content:center;\n",
    "                align-items:center;\n",
    "            }\n",
    "            .images img {\n",
    "                margin-left:5px;\n",
    "                margin-right:5px;\n",
    "            }\n",
    "        </style>\n",
    "        \n",
    "        <center>\n",
    "            <div class='images'>\n",
    "                <img src='\"\"\" + datapane + \"\"\"' width=\"75\"/>\n",
    "                <img src='\"\"\" + nyt + \"\"\"' width=\"100\"/>\n",
    "                <img src='\"\"\" + espn + \"\"\"' width=\"75\"/>\n",
    "                <img src='\"\"\" + spotify + \"\"\"' width=\"75\"/>\n",
    "                <img src='\"\"\" + _538 + \"\"\"' width=\"75\"/>\n",
    "                <img src='\"\"\" + lichess + \"\"\"' width=\"75\"/>\n",
    "            </div>\n",
    "        </center>\n",
    "    </html>\n",
    "    \"\"\"\n",
    ")"
   ]
  },
  {
   "cell_type": "code",
   "execution_count": 15,
   "metadata": {
    "execution": {
     "iopub.execute_input": "2022-02-08T17:31:30.377530Z",
     "iopub.status.busy": "2022-02-08T17:31:30.375804Z",
     "iopub.status.idle": "2022-02-08T17:31:30.379392Z",
     "shell.execute_reply": "2022-02-08T17:31:30.380084Z"
    }
   },
   "outputs": [],
   "source": [
    "header_text = dp.HTML(\n",
    "    \"\"\"\n",
    "    <html>\n",
    "        <style type='text/css'>\n",
    "            @keyframes rotate {\n",
    "                0%   {color: #EEE;}\n",
    "                25%  {color: #EC4899;}\n",
    "                50%  {color: #8B5CF6;}\n",
    "                100% {color: #EF4444;}\n",
    "            }\n",
    "            h1 {\n",
    "                color:#eee;\n",
    "                animation-name: rotate;\n",
    "                animation-duration: 4s;\n",
    "                animation-iteration-count: infinite;\n",
    "            }\n",
    "        </style>\n",
    "        <center>\n",
    "            <h1>Morning Scoop</h1>\n",
    "            <i>\"\"\" + TODAY.strftime('%A, %B %d, %Y') + \"\"\"<i>\n",
    "        </center>\n",
    "    </html>\n",
    "    \"\"\"\n",
    ")"
   ]
  },
  {
   "cell_type": "code",
   "execution_count": 16,
   "metadata": {
    "execution": {
     "iopub.execute_input": "2022-02-08T17:31:30.385079Z",
     "iopub.status.busy": "2022-02-08T17:31:30.384378Z",
     "iopub.status.idle": "2022-02-08T17:31:30.387168Z",
     "shell.execute_reply": "2022-02-08T17:31:30.387631Z"
    }
   },
   "outputs": [],
   "source": [
    "header_description = dp.Text(\"\"\"\n",
    "Welcome to the Morning Scoop! This project is aimed to aggregate and display an eclectic and wide-ranging mix of information, data, and visualizations. Information sources include The New York Times, ESPN, FiveThirtyEight, and many more. Enjoy!\n",
    "\n",
    "This report is powered by Datapane.\n",
    "\n",
    "\"\"\".strip())"
   ]
  },
  {
   "cell_type": "markdown",
   "metadata": {},
   "source": [
    "### 1.2 Main Selector <a class=\"anchor\" id=\"selector\"></a>"
   ]
  },
  {
   "cell_type": "markdown",
   "metadata": {},
   "source": [
    "[Table of Contents](#toc)"
   ]
  },
  {
   "cell_type": "markdown",
   "metadata": {},
   "source": [
    "#### 1.2.1 Sports Results and Analytics <a class=\"anchor\" id=\"espn\"></a>"
   ]
  },
  {
   "cell_type": "code",
   "execution_count": 17,
   "metadata": {
    "execution": {
     "iopub.execute_input": "2022-02-08T17:31:30.407060Z",
     "iopub.status.busy": "2022-02-08T17:31:30.406209Z",
     "iopub.status.idle": "2022-02-08T17:31:32.259141Z",
     "shell.execute_reply": "2022-02-08T17:31:32.258213Z"
    }
   },
   "outputs": [
    {
     "name": "stdout",
     "output_type": "stream",
     "text": [
      "espn.py (Line: 164) || IndexError: Missing Team Conference Record; OK.\n",
      "espn.py (Line: 164) || IndexError: Missing Team Conference Record; OK.\n",
      "espn.py (Line: 164) || IndexError: Missing Team Conference Record; OK.\n",
      "espn.py (Line: 164) || IndexError: Missing Team Conference Record; OK.\n",
      "espn.py (Line: 164) || IndexError: Missing Team Conference Record; OK.\n",
      "espn.py (Line: 164) || IndexError: Missing Team Conference Record; OK.\n",
      "espn.py (Line: 164) || IndexError: Missing Team Conference Record; OK.\n",
      "espn.py (Line: 164) || IndexError: Missing Team Conference Record; OK.\n",
      "espn.py (Line: 164) || IndexError: Missing Team Conference Record; OK.\n",
      "espn.py (Line: 164) || IndexError: Missing Team Conference Record; OK.\n",
      "espn.py (Line: 164) || IndexError: Missing Team Conference Record; OK.\n",
      "espn.py (Line: 164) || IndexError: Missing Team Conference Record; OK.\n",
      "espn.py (Line: 164) || IndexError: Missing Team Conference Record; OK.\n",
      "espn.py (Line: 164) || IndexError: Missing Team Conference Record; OK.\n",
      "espn.py (Line: 164) || IndexError: Missing Team Conference Record; OK.\n",
      "espn.py (Line: 164) || IndexError: Missing Team Conference Record; OK.\n",
      "espn.py (Line: 164) || IndexError: Missing Team Conference Record; OK.\n",
      "espn.py (Line: 164) || IndexError: Missing Team Conference Record; OK.\n",
      "espn.py (Line: 164) || IndexError: Missing Team Conference Record; OK.\n",
      "espn.py (Line: 164) || IndexError: Missing Team Conference Record; OK.\n",
      "espn.py (Line: 164) || IndexError: Missing Team Conference Record; OK.\n",
      "espn.py (Line: 164) || IndexError: Missing Team Conference Record; OK.\n",
      "espn.py (Line: 164) || IndexError: Missing Team Conference Record; OK.\n",
      "espn.py (Line: 164) || IndexError: Missing Team Conference Record; OK.\n",
      "espn.py (Line: 164) || IndexError: Missing Team Conference Record; OK.\n",
      "espn.py (Line: 164) || IndexError: Missing Team Conference Record; OK.\n",
      "espn.py (Line: 164) || IndexError: Missing Team Conference Record; OK.\n",
      "espn.py (Line: 164) || IndexError: Missing Team Conference Record; OK.\n",
      "espn.py (Line: 164) || IndexError: Missing Team Conference Record; OK.\n",
      "espn.py (Line: 164) || IndexError: Missing Team Conference Record; OK.\n",
      "espn.py (Line: 164) || IndexError: Missing Team Conference Record; OK.\n",
      "espn.py (Line: 164) || IndexError: Missing Team Conference Record; OK.\n"
     ]
    }
   ],
   "source": [
    "espn_games = list(map(scores, ESPN_SPORTS.items()))"
   ]
  },
  {
   "cell_type": "code",
   "execution_count": 18,
   "metadata": {
    "execution": {
     "iopub.execute_input": "2022-02-08T17:31:32.265788Z",
     "iopub.status.busy": "2022-02-08T17:31:32.264920Z",
     "iopub.status.idle": "2022-02-08T17:31:32.267934Z",
     "shell.execute_reply": "2022-02-08T17:31:32.268417Z"
    }
   },
   "outputs": [],
   "source": [
    "espn_groups = list(map(group_sport, ESPN_SPORTS.keys(), espn_games))\n",
    "espn_groups = list(filter(None, espn_groups))"
   ]
  },
  {
   "cell_type": "code",
   "execution_count": 19,
   "metadata": {
    "execution": {
     "iopub.execute_input": "2022-02-08T17:31:32.274145Z",
     "iopub.status.busy": "2022-02-08T17:31:32.273332Z",
     "iopub.status.idle": "2022-02-08T17:31:32.275650Z",
     "shell.execute_reply": "2022-02-08T17:31:32.276348Z"
    }
   },
   "outputs": [],
   "source": [
    "# TODO Toggle Results and Upcoming\n",
    "# TODO Sports Highlights and Game Breakdown\n",
    "# TODO Group --> HTML Table (condensed...)"
   ]
  },
  {
   "cell_type": "markdown",
   "metadata": {},
   "source": [
    "#### 1.2.2 Top World News <a class=\"anchor\" id=\"nyt\"></a>"
   ]
  },
  {
   "cell_type": "code",
   "execution_count": 20,
   "metadata": {
    "execution": {
     "iopub.execute_input": "2022-02-08T17:31:32.283113Z",
     "iopub.status.busy": "2022-02-08T17:31:32.282223Z",
     "iopub.status.idle": "2022-02-08T17:31:33.132850Z",
     "shell.execute_reply": "2022-02-08T17:31:33.133760Z"
    }
   },
   "outputs": [],
   "source": [
    "articles = top_stories(NYT_KEY)"
   ]
  },
  {
   "cell_type": "code",
   "execution_count": 21,
   "metadata": {
    "execution": {
     "iopub.execute_input": "2022-02-08T17:31:33.162593Z",
     "iopub.status.busy": "2022-02-08T17:31:33.161663Z",
     "iopub.status.idle": "2022-02-08T17:31:33.164696Z",
     "shell.execute_reply": "2022-02-08T17:31:33.165333Z"
    }
   },
   "outputs": [],
   "source": [
    "articles = articles.loc[articles['item_type'] != 'Promo']\n",
    "articles = articles.loc[articles['multimedia'].str.len() >= 1]\n",
    "articles['multimedia'] = articles['multimedia'].str[0].str['url']\n",
    "articles['subsection'] = articles['subsection'].replace('', 'miscellaneous')"
   ]
  },
  {
   "cell_type": "code",
   "execution_count": 22,
   "metadata": {
    "execution": {
     "iopub.execute_input": "2022-02-08T17:31:33.174042Z",
     "iopub.status.busy": "2022-02-08T17:31:33.172710Z",
     "iopub.status.idle": "2022-02-08T17:31:33.175837Z",
     "shell.execute_reply": "2022-02-08T17:31:33.176644Z"
    }
   },
   "outputs": [],
   "source": [
    "grouped_articles = articles.groupby(\n",
    "    'subsection',\n",
    "    axis=0\n",
    ")"
   ]
  },
  {
   "cell_type": "code",
   "execution_count": 23,
   "metadata": {
    "execution": {
     "iopub.execute_input": "2022-02-08T17:31:33.188713Z",
     "iopub.status.busy": "2022-02-08T17:31:33.187564Z",
     "iopub.status.idle": "2022-02-08T17:31:33.190521Z",
     "shell.execute_reply": "2022-02-08T17:31:33.190977Z"
    }
   },
   "outputs": [],
   "source": [
    "ordered_groups = grouped_articles.size().sort_values(ascending=False)"
   ]
  },
  {
   "cell_type": "code",
   "execution_count": 24,
   "metadata": {
    "execution": {
     "iopub.execute_input": "2022-02-08T17:31:33.213743Z",
     "iopub.status.busy": "2022-02-08T17:31:33.203476Z",
     "iopub.status.idle": "2022-02-08T17:31:33.216136Z",
     "shell.execute_reply": "2022-02-08T17:31:33.216670Z"
    }
   },
   "outputs": [],
   "source": [
    "article_sections = list(map(\n",
    "    partial(format_sections, grouped_articles), ordered_groups.index\n",
    "))"
   ]
  },
  {
   "cell_type": "code",
   "execution_count": 25,
   "metadata": {
    "execution": {
     "iopub.execute_input": "2022-02-08T17:31:33.221674Z",
     "iopub.status.busy": "2022-02-08T17:31:33.220725Z",
     "iopub.status.idle": "2022-02-08T17:31:33.223086Z",
     "shell.execute_reply": "2022-02-08T17:31:33.223557Z"
    }
   },
   "outputs": [],
   "source": [
    "# TODO Article Links"
   ]
  },
  {
   "cell_type": "markdown",
   "metadata": {},
   "source": [
    "#### 1.2.3 Stock Market <a class=\"anchor\" id=\"finnhub\"></a>"
   ]
  },
  {
   "cell_type": "markdown",
   "metadata": {},
   "source": [
    "##### Ticker Scroll"
   ]
  },
  {
   "cell_type": "code",
   "execution_count": 26,
   "metadata": {
    "execution": {
     "iopub.execute_input": "2022-02-08T17:31:33.230245Z",
     "iopub.status.busy": "2022-02-08T17:31:33.229213Z",
     "iopub.status.idle": "2022-02-08T17:31:39.483294Z",
     "shell.execute_reply": "2022-02-08T17:31:39.483776Z"
    }
   },
   "outputs": [],
   "source": [
    "t100 = robinhood.markets.get_top_100()\n",
    "t100 = pd.DataFrame(t100)"
   ]
  },
  {
   "cell_type": "code",
   "execution_count": 27,
   "metadata": {
    "execution": {
     "iopub.execute_input": "2022-02-08T17:31:39.491137Z",
     "iopub.status.busy": "2022-02-08T17:31:39.490524Z",
     "iopub.status.idle": "2022-02-08T17:31:39.494924Z",
     "shell.execute_reply": "2022-02-08T17:31:39.493998Z"
    }
   },
   "outputs": [],
   "source": [
    "scroll_objects = t100[['last_trade_price', 'previous_close', 'symbol']].apply(\n",
    "    get_scroll_objects, axis=1\n",
    ")"
   ]
  },
  {
   "cell_type": "code",
   "execution_count": 28,
   "metadata": {
    "execution": {
     "iopub.execute_input": "2022-02-08T17:31:39.501487Z",
     "iopub.status.busy": "2022-02-08T17:31:39.500349Z",
     "iopub.status.idle": "2022-02-08T17:31:39.503909Z",
     "shell.execute_reply": "2022-02-08T17:31:39.503298Z"
    }
   },
   "outputs": [],
   "source": [
    "scroll = dp.HTML(\n",
    "    \"\"\"\n",
    "    <html>\n",
    "        <style type='text/css'>\n",
    "            body {\n",
    "                background: #FFFFFF;\n",
    "            }\n",
    "            \n",
    "            .news-scroll a {\n",
    "                font-size: 16px;\n",
    "                text-decoration: none;\n",
    "                color: #000000;\n",
    "            }\n",
    "            \n",
    "            .price {\n",
    "                font-size: 14px;\n",
    "            }\n",
    "            \n",
    "            .up {\n",
    "                font-size: 12px;\n",
    "                color: #228B22;\n",
    "            }\n",
    "            \n",
    "            .down {\n",
    "                font-size: 12px;\n",
    "                color: #D2042D;\n",
    "            }\n",
    "        </style>\n",
    "    \n",
    "        <div class=\"container mt-5\">\n",
    "            <div class=\"row\">\n",
    "                <div class=\"col-md-12\">\n",
    "                    <div class=\"d-flex justify-content-between align-items-center breaking-news bg-white\">\n",
    "                        <marquee class=\"news-scroll\" behavior=\"scroll\" direction=\"left\" onmouseover=\"this.stop();\" onmouseout=\"this.start();\">\"\"\" + \n",
    "                            ' '.join(scroll_objects) + \n",
    "                        \"\"\"</marquee>\n",
    "                    </div>\n",
    "                </div>\n",
    "            </div>\n",
    "        </div>\n",
    "    \n",
    "    </html>\n",
    "    \"\"\".strip()\n",
    ")"
   ]
  },
  {
   "cell_type": "markdown",
   "metadata": {},
   "source": [
    "##### FAANG and ETF Prices and Candlestick"
   ]
  },
  {
   "cell_type": "code",
   "execution_count": 29,
   "metadata": {
    "execution": {
     "iopub.execute_input": "2022-02-08T17:31:39.509859Z",
     "iopub.status.busy": "2022-02-08T17:31:39.508861Z",
     "iopub.status.idle": "2022-02-08T17:31:39.513556Z",
     "shell.execute_reply": "2022-02-08T17:31:39.514098Z"
    }
   },
   "outputs": [],
   "source": [
    "COLUMNS = 5\n",
    "TICKERS = [\n",
    "    'SPY', 'QQQ', 'XLF', 'IWM', 'BND',\n",
    "    'FB', 'AAPL', 'AMZN', 'NFLX', 'GOOG',\n",
    "]"
   ]
  },
  {
   "cell_type": "code",
   "execution_count": 30,
   "metadata": {
    "execution": {
     "iopub.execute_input": "2022-02-08T17:31:39.522102Z",
     "iopub.status.busy": "2022-02-08T17:31:39.521048Z",
     "iopub.status.idle": "2022-02-08T17:31:45.247427Z",
     "shell.execute_reply": "2022-02-08T17:31:45.248247Z"
    }
   },
   "outputs": [],
   "source": [
    "big_numbers = []\n",
    "figures = []\n",
    "\n",
    "for i, t in enumerate(TICKERS):\n",
    "    close, delta, delta_pct, high, low, open_, p_close, _ = quote(FINNHUB_KEY, t)\n",
    "    df = candles(FINNHUB_KEY, t)\n",
    "    \n",
    "    bn = dp.BigNumber(\n",
    "        heading=t,\n",
    "        value=f\"${round(close, 2)}\",\n",
    "        change=f\"{round(delta_pct, 2)}%\",\n",
    "        is_upward_change=True if delta_pct > 0 else False\n",
    "    )\n",
    "    big_numbers.append(bn)\n",
    "    \n",
    "    figure = candlestick(df, t)\n",
    "    figures.append(figure)"
   ]
  },
  {
   "cell_type": "code",
   "execution_count": 31,
   "metadata": {
    "execution": {
     "iopub.execute_input": "2022-02-08T17:31:45.255247Z",
     "iopub.status.busy": "2022-02-08T17:31:45.254415Z",
     "iopub.status.idle": "2022-02-08T17:31:45.257111Z",
     "shell.execute_reply": "2022-02-08T17:31:45.257622Z"
    }
   },
   "outputs": [],
   "source": [
    "ticker_groups = list(zip_longest(*(iter(big_numbers),) * COLUMNS, fillvalue=''))\n",
    "ticker_groups = [\n",
    "    dp.Group(columns=COLUMNS, *g) for g in ticker_groups\n",
    "]"
   ]
  },
  {
   "cell_type": "markdown",
   "metadata": {},
   "source": [
    "##### Scrape CNN Market"
   ]
  },
  {
   "cell_type": "code",
   "execution_count": 32,
   "metadata": {
    "execution": {
     "iopub.execute_input": "2022-02-08T17:31:45.264831Z",
     "iopub.status.busy": "2022-02-08T17:31:45.263538Z",
     "iopub.status.idle": "2022-02-08T17:31:45.423039Z",
     "shell.execute_reply": "2022-02-08T17:31:45.422474Z"
    }
   },
   "outputs": [],
   "source": [
    "cnn = 'https://money.cnn.com/data/markets'\n",
    "with requests.get(cnn) as page:\n",
    "    soup = BeautifulSoup(page.content, 'html.parser')"
   ]
  },
  {
   "cell_type": "code",
   "execution_count": 33,
   "metadata": {
    "execution": {
     "iopub.execute_input": "2022-02-08T17:31:45.426750Z",
     "iopub.status.busy": "2022-02-08T17:31:45.425876Z",
     "iopub.status.idle": "2022-02-08T17:31:45.438459Z",
     "shell.execute_reply": "2022-02-08T17:31:45.438896Z"
    }
   },
   "outputs": [],
   "source": [
    "modules = soup.find_all('div', class_='module')\n",
    "key_stats = soup.find('ul', class_='module-body wsod key-stats')"
   ]
  },
  {
   "cell_type": "code",
   "execution_count": 34,
   "metadata": {
    "execution": {
     "iopub.execute_input": "2022-02-08T17:31:45.442577Z",
     "iopub.status.busy": "2022-02-08T17:31:45.441848Z",
     "iopub.status.idle": "2022-02-08T17:31:45.452136Z",
     "shell.execute_reply": "2022-02-08T17:31:45.451677Z"
    }
   },
   "outputs": [],
   "source": [
    "pairs = list(map(format_modules, modules))\n",
    "pairs = list(filter(None, pairs))\n",
    "pairs = list(sum(pairs, ()))"
   ]
  },
  {
   "cell_type": "code",
   "execution_count": 35,
   "metadata": {
    "execution": {
     "iopub.execute_input": "2022-02-08T17:31:45.456392Z",
     "iopub.status.busy": "2022-02-08T17:31:45.454322Z",
     "iopub.status.idle": "2022-02-08T17:31:45.460145Z",
     "shell.execute_reply": "2022-02-08T17:31:45.460979Z"
    }
   },
   "outputs": [],
   "source": [
    "headers = pairs[::2]\n",
    "modules = pairs[1::2]"
   ]
  },
  {
   "cell_type": "code",
   "execution_count": 36,
   "metadata": {
    "execution": {
     "iopub.execute_input": "2022-02-08T17:31:45.466243Z",
     "iopub.status.busy": "2022-02-08T17:31:45.463802Z",
     "iopub.status.idle": "2022-02-08T17:31:45.468952Z",
     "shell.execute_reply": "2022-02-08T17:31:45.469385Z"
    }
   },
   "outputs": [],
   "source": [
    "module_groups = list(map(group_modules, headers, modules))"
   ]
  },
  {
   "cell_type": "markdown",
   "metadata": {},
   "source": [
    "##### Free Stock Search"
   ]
  },
  {
   "cell_type": "code",
   "execution_count": 37,
   "metadata": {
    "execution": {
     "iopub.execute_input": "2022-02-08T17:31:45.476680Z",
     "iopub.status.busy": "2022-02-08T17:31:45.474964Z",
     "iopub.status.idle": "2022-02-08T17:31:45.481879Z",
     "shell.execute_reply": "2022-02-08T17:31:45.482313Z"
    }
   },
   "outputs": [
    {
     "name": "stdout",
     "output_type": "stream",
     "text": [
      "CPU times: user 3 µs, sys: 0 ns, total: 3 µs\n",
      "Wall time: 5.96 µs\n"
     ]
    }
   ],
   "source": [
    "%%time\n",
    "\n",
    "# sp500_figures = free_stock_search(FINNHUB_KEY)"
   ]
  },
  {
   "cell_type": "markdown",
   "metadata": {},
   "source": [
    "#### 1.2.4 Portfolio Performance <a class=\"anchor\" id=\"robinhood\"></a>"
   ]
  },
  {
   "cell_type": "markdown",
   "metadata": {},
   "source": [
    "Display Holdings"
   ]
  },
  {
   "cell_type": "code",
   "execution_count": 38,
   "metadata": {
    "execution": {
     "iopub.execute_input": "2022-02-08T17:31:45.485454Z",
     "iopub.status.busy": "2022-02-08T17:31:45.484870Z",
     "iopub.status.idle": "2022-02-08T17:31:47.219960Z",
     "shell.execute_reply": "2022-02-08T17:31:47.219463Z"
    }
   },
   "outputs": [],
   "source": [
    "ticks, data, portfolio = load_portfolio(robinhood)"
   ]
  },
  {
   "cell_type": "code",
   "execution_count": 39,
   "metadata": {
    "execution": {
     "iopub.execute_input": "2022-02-08T17:31:47.225000Z",
     "iopub.status.busy": "2022-02-08T17:31:47.224128Z",
     "iopub.status.idle": "2022-02-08T17:31:47.227736Z",
     "shell.execute_reply": "2022-02-08T17:31:47.229517Z"
    }
   },
   "outputs": [],
   "source": [
    "equity_tickers, etf_tickers, crypto_tickers = ticks\n",
    "tickers = equity_tickers + etf_tickers + crypto_tickers"
   ]
  },
  {
   "cell_type": "code",
   "execution_count": 40,
   "metadata": {
    "execution": {
     "iopub.execute_input": "2022-02-08T17:31:47.237848Z",
     "iopub.status.busy": "2022-02-08T17:31:47.236694Z",
     "iopub.status.idle": "2022-02-08T17:31:48.071604Z",
     "shell.execute_reply": "2022-02-08T17:31:48.070518Z"
    }
   },
   "outputs": [],
   "source": [
    "portfolio_toggles = list(\n",
    "    map(\n",
    "        lambda t, l: ticker_toggle(FINNHUB_KEY, t, l) if len(t) != 0 else None, \n",
    "        [equity_tickers, etf_tickers, crypto_tickers],\n",
    "        ['Equity', 'ETF', 'Crypto']\n",
    "    )\n",
    ")\n",
    "portfolio_toggles = list(filter(None, portfolio_toggles))"
   ]
  },
  {
   "cell_type": "markdown",
   "metadata": {},
   "source": [
    "Overall Portfolio"
   ]
  },
  {
   "cell_type": "code",
   "execution_count": 41,
   "metadata": {},
   "outputs": [],
   "source": [
    "crypto_prices = np.array([\n",
    "    float(robinhood.crypto.get_crypto_quote(t)['mark_price']) for t in crypto_tickers\n",
    "])\n",
    "crypto_quantity = data[2].quantity.astype(float).to_numpy()\n",
    "crypto_value = (crypto_prices * crypto_quantity)[0]"
   ]
  },
  {
   "cell_type": "code",
   "execution_count": 42,
   "metadata": {
    "execution": {
     "iopub.execute_input": "2022-02-08T17:31:48.082084Z",
     "iopub.status.busy": "2022-02-08T17:31:48.081287Z",
     "iopub.status.idle": "2022-02-08T17:31:48.084226Z",
     "shell.execute_reply": "2022-02-08T17:31:48.084693Z"
    }
   },
   "outputs": [],
   "source": [
    "mkt_value, prev_mkt_value = portfolio['market_value'], portfolio['last_core_market_value']\n",
    "mkt_value, prev_mkt_value = float(mkt_value), float(prev_mkt_value)\n",
    "delta_pct = mkt_value / prev_mkt_value - 1"
   ]
  },
  {
   "cell_type": "code",
   "execution_count": 43,
   "metadata": {},
   "outputs": [],
   "source": [
    "cash = float(portfolio['withdrawable_amount'])"
   ]
  },
  {
   "cell_type": "code",
   "execution_count": 44,
   "metadata": {},
   "outputs": [],
   "source": [
    "portfolio_value = mkt_value + crypto_value + cash"
   ]
  },
  {
   "cell_type": "code",
   "execution_count": 45,
   "metadata": {
    "execution": {
     "iopub.execute_input": "2022-02-08T17:31:48.089731Z",
     "iopub.status.busy": "2022-02-08T17:31:48.089062Z",
     "iopub.status.idle": "2022-02-08T17:31:48.092368Z",
     "shell.execute_reply": "2022-02-08T17:31:48.093099Z"
    }
   },
   "outputs": [],
   "source": [
    "portfolio_value = dp.BigNumber(\n",
    "    heading=\"Overall Portfolio\",\n",
    "    value=f\"${round(portfolio_value, 2)}\",\n",
    "    change=f\"{round(delta_pct, 2)}%\",\n",
    "    is_upward_change=True if delta_pct > 0 else False\n",
    ")\n",
    "cash = dp.BigNumber(\n",
    "    heading=\"Buying Power\",\n",
    "    value=f\"${round(cash, 2)}\"\n",
    ")"
   ]
  },
  {
   "cell_type": "markdown",
   "metadata": {},
   "source": [
    "Portfolio News"
   ]
  },
  {
   "cell_type": "code",
   "execution_count": 46,
   "metadata": {
    "execution": {
     "iopub.execute_input": "2022-02-08T17:31:48.098996Z",
     "iopub.status.busy": "2022-02-08T17:31:48.098210Z",
     "iopub.status.idle": "2022-02-08T17:31:48.101964Z",
     "shell.execute_reply": "2022-02-08T17:31:48.102438Z"
    }
   },
   "outputs": [],
   "source": [
    "# news = robinhood.stocks.get_news('AAPL')\n",
    "# news = pd.DataFrame(news)\n",
    "# news"
   ]
  },
  {
   "cell_type": "code",
   "execution_count": 47,
   "metadata": {
    "execution": {
     "iopub.execute_input": "2022-02-08T17:31:48.107486Z",
     "iopub.status.busy": "2022-02-08T17:31:48.106397Z",
     "iopub.status.idle": "2022-02-08T17:31:48.109317Z",
     "shell.execute_reply": "2022-02-08T17:31:48.109835Z"
    }
   },
   "outputs": [],
   "source": [
    "# for n in news.related_instruments:\n",
    "#     for id_ in n:\n",
    "#         print(\n",
    "#             robinhood.stocks.get_instrument_by_url(f'https://api.robinhood.com/instruments/{id_}')['simple_name']\n",
    "#         )"
   ]
  },
  {
   "cell_type": "markdown",
   "metadata": {},
   "source": [
    "Miscellaneous"
   ]
  },
  {
   "cell_type": "code",
   "execution_count": 48,
   "metadata": {
    "execution": {
     "iopub.execute_input": "2022-02-08T17:31:48.115868Z",
     "iopub.status.busy": "2022-02-08T17:31:48.115096Z",
     "iopub.status.idle": "2022-02-08T17:31:48.117858Z",
     "shell.execute_reply": "2022-02-08T17:31:48.118569Z"
    }
   },
   "outputs": [],
   "source": [
    "# robinhood.markets.get_market_next_open_hours('XNYS')"
   ]
  },
  {
   "cell_type": "code",
   "execution_count": 49,
   "metadata": {
    "execution": {
     "iopub.execute_input": "2022-02-08T17:31:48.123178Z",
     "iopub.status.busy": "2022-02-08T17:31:48.122351Z",
     "iopub.status.idle": "2022-02-08T17:31:48.125877Z",
     "shell.execute_reply": "2022-02-08T17:31:48.126464Z"
    }
   },
   "outputs": [],
   "source": [
    "# robinhood.markets.get_all_stocks_from_market_tag('technology')"
   ]
  },
  {
   "cell_type": "code",
   "execution_count": 50,
   "metadata": {
    "execution": {
     "iopub.execute_input": "2022-02-08T17:31:48.132552Z",
     "iopub.status.busy": "2022-02-08T17:31:48.131731Z",
     "iopub.status.idle": "2022-02-08T17:31:48.134602Z",
     "shell.execute_reply": "2022-02-08T17:31:48.135116Z"
    }
   },
   "outputs": [],
   "source": [
    "# movers = robinhood.markets.get_top_movers()\n",
    "# movers = pd.DataFrame(movers)\n",
    "# movers"
   ]
  },
  {
   "cell_type": "code",
   "execution_count": 51,
   "metadata": {
    "execution": {
     "iopub.execute_input": "2022-02-08T17:31:48.140312Z",
     "iopub.status.busy": "2022-02-08T17:31:48.139269Z",
     "iopub.status.idle": "2022-02-08T17:31:48.141885Z",
     "shell.execute_reply": "2022-02-08T17:31:48.142486Z"
    }
   },
   "outputs": [],
   "source": [
    "# movers_u = robinhood.markets.get_top_movers_sp500(direction='up')\n",
    "# movers_d = robinhood.markets.get_top_movers_sp500(direction='down')\n",
    "# movers_u = pd.DataFrame(movers_u)\n",
    "# movers_d = pd.DataFrame(movers_d)"
   ]
  },
  {
   "cell_type": "markdown",
   "metadata": {},
   "source": [
    "Portfolio Candlesticks"
   ]
  },
  {
   "cell_type": "code",
   "execution_count": 52,
   "metadata": {
    "execution": {
     "iopub.execute_input": "2022-02-08T17:31:48.150544Z",
     "iopub.status.busy": "2022-02-08T17:31:48.149636Z",
     "iopub.status.idle": "2022-02-08T17:31:50.319704Z",
     "shell.execute_reply": "2022-02-08T17:31:50.320136Z"
    }
   },
   "outputs": [],
   "source": [
    "portfolio_candles = list(map(\n",
    "    partial(candles, FINNHUB_KEY), tickers\n",
    "))\n",
    "portfolio_figures = list(map(\n",
    "    candlestick, portfolio_candles, tickers\n",
    "))"
   ]
  },
  {
   "cell_type": "markdown",
   "metadata": {},
   "source": [
    "#### 1.2.5 Data Exploration and Visualization <a class=\"anchor\" id=\"data\"></a>"
   ]
  },
  {
   "cell_type": "markdown",
   "metadata": {},
   "source": [
    "##### Five Thirty Eight"
   ]
  },
  {
   "cell_type": "code",
   "execution_count": 53,
   "metadata": {
    "execution": {
     "iopub.execute_input": "2022-02-08T17:31:50.325352Z",
     "iopub.status.busy": "2022-02-08T17:31:50.324442Z",
     "iopub.status.idle": "2022-02-08T17:31:50.327453Z",
     "shell.execute_reply": "2022-02-08T17:31:50.327918Z"
    }
   },
   "outputs": [],
   "source": [
    "NBA_ELO = 'https://projects.fivethirtyeight.com/nba-model/nba_elo.csv'\n",
    "NFL_ELO = 'https://projects.fivethirtyeight.com/nfl-api/nfl_elo.csv'\n",
    "MLB_ELO = 'https://projects.fivethirtyeight.com/mlb-api/mlb_elo.csv'\n",
    "ELO_LINKS = [\n",
    "    NBA_ELO, NFL_ELO, MLB_ELO\n",
    "]"
   ]
  },
  {
   "cell_type": "code",
   "execution_count": 54,
   "metadata": {
    "execution": {
     "iopub.execute_input": "2022-02-08T17:31:50.333744Z",
     "iopub.status.busy": "2022-02-08T17:31:50.332912Z",
     "iopub.status.idle": "2022-02-08T17:31:50.335855Z",
     "shell.execute_reply": "2022-02-08T17:31:50.336324Z"
    }
   },
   "outputs": [],
   "source": [
    "YEAR = 2021\n",
    "NCAA = f'https://projects.fivethirtyeight.com/march-madness-api/{YEAR}/fivethirtyeight_ncaa_forecasts.csv'\n",
    "POLLS = 'https://github.com/fivethirtyeight/data/tree/master/polls'"
   ]
  },
  {
   "cell_type": "code",
   "execution_count": 55,
   "metadata": {
    "execution": {
     "iopub.execute_input": "2022-02-08T17:31:50.342676Z",
     "iopub.status.busy": "2022-02-08T17:31:50.341761Z",
     "iopub.status.idle": "2022-02-08T17:33:16.397641Z",
     "shell.execute_reply": "2022-02-08T17:33:16.398121Z"
    }
   },
   "outputs": [
    {
     "name": "stdout",
     "output_type": "stream",
     "text": [
      "CPU times: user 15.6 s, sys: 1.06 s, total: 16.7 s\n",
      "Wall time: 32.5 s\n"
     ]
    }
   ],
   "source": [
    "%%time\n",
    "\n",
    "_538_figures = list(map(\n",
    "    plot_elo, ELO_LINKS\n",
    "))"
   ]
  },
  {
   "cell_type": "code",
   "execution_count": 56,
   "metadata": {
    "execution": {
     "iopub.execute_input": "2022-02-08T17:33:16.403770Z",
     "iopub.status.busy": "2022-02-08T17:33:16.402229Z",
     "iopub.status.idle": "2022-02-08T17:33:16.404985Z",
     "shell.execute_reply": "2022-02-08T17:33:16.405456Z"
    }
   },
   "outputs": [],
   "source": [
    "# TODO Clean and Style Graphs\n",
    "    # Restyle Color\n",
    "# TODO Header Blocks --> Intro ELO and By Sport\n",
    "# Incorporate March Madness and ~Polls~"
   ]
  },
  {
   "cell_type": "markdown",
   "metadata": {},
   "source": [
    "##### Spotify"
   ]
  },
  {
   "cell_type": "code",
   "execution_count": 57,
   "metadata": {
    "execution": {
     "iopub.execute_input": "2022-02-08T17:33:16.412018Z",
     "iopub.status.busy": "2022-02-08T17:33:16.410843Z",
     "iopub.status.idle": "2022-02-08T17:33:16.415141Z",
     "shell.execute_reply": "2022-02-08T17:33:16.414608Z"
    }
   },
   "outputs": [],
   "source": [
    "TOP50 = '37i9dQZEVXbLRQDuF5jeBp'\n",
    "MIX1 = '37i9dQZF1E35bNzojVbMHG'\n",
    "MIX2 = '37i9dQZF1E38sJU7OsGSQi'\n",
    "MIX3 = '37i9dQZF1E37xnKwvD1GJE'\n",
    "\n",
    "PLAYLISTS = [\n",
    "    TOP50, MIX1, MIX2, MIX3\n",
    "]"
   ]
  },
  {
   "cell_type": "code",
   "execution_count": 58,
   "metadata": {
    "execution": {
     "iopub.execute_input": "2022-02-08T17:33:16.421372Z",
     "iopub.status.busy": "2022-02-08T17:33:16.420395Z",
     "iopub.status.idle": "2022-02-08T17:33:16.422945Z",
     "shell.execute_reply": "2022-02-08T17:33:16.423398Z"
    }
   },
   "outputs": [],
   "source": [
    "HEADERS = {\n",
    "    'Authorization': 'Bearer {token}'.format(token=access_token)\n",
    "}"
   ]
  },
  {
   "cell_type": "code",
   "execution_count": 59,
   "metadata": {
    "execution": {
     "iopub.execute_input": "2022-02-08T17:33:16.428766Z",
     "iopub.status.busy": "2022-02-08T17:33:16.427862Z",
     "iopub.status.idle": "2022-02-08T17:33:16.430360Z",
     "shell.execute_reply": "2022-02-08T17:33:16.430868Z"
    }
   },
   "outputs": [],
   "source": [
    "playlists_html = list(map(get_spotify_embed, PLAYLISTS))"
   ]
  },
  {
   "cell_type": "code",
   "execution_count": 60,
   "metadata": {
    "execution": {
     "iopub.execute_input": "2022-02-08T17:33:16.435737Z",
     "iopub.status.busy": "2022-02-08T17:33:16.434778Z",
     "iopub.status.idle": "2022-02-08T17:33:16.438768Z",
     "shell.execute_reply": "2022-02-08T17:33:16.438224Z"
    }
   },
   "outputs": [],
   "source": [
    "# TODO Correct Embedding..."
   ]
  },
  {
   "cell_type": "markdown",
   "metadata": {},
   "source": [
    "##### Lichess"
   ]
  },
  {
   "cell_type": "code",
   "execution_count": 61,
   "metadata": {
    "execution": {
     "iopub.execute_input": "2022-02-08T17:33:16.443773Z",
     "iopub.status.busy": "2022-02-08T17:33:16.442991Z",
     "iopub.status.idle": "2022-02-08T17:33:16.446046Z",
     "shell.execute_reply": "2022-02-08T17:33:16.446566Z"
    }
   },
   "outputs": [],
   "source": [
    "# TODO Top Player Matches"
   ]
  },
  {
   "cell_type": "markdown",
   "metadata": {},
   "source": [
    "##### COVID"
   ]
  },
  {
   "cell_type": "markdown",
   "metadata": {},
   "source": [
    "US KPIs"
   ]
  },
  {
   "cell_type": "code",
   "execution_count": 62,
   "metadata": {
    "execution": {
     "iopub.execute_input": "2022-02-08T17:33:16.453369Z",
     "iopub.status.busy": "2022-02-08T17:33:16.451887Z",
     "iopub.status.idle": "2022-02-08T17:33:16.815787Z",
     "shell.execute_reply": "2022-02-08T17:33:16.814937Z"
    }
   },
   "outputs": [],
   "source": [
    "usa_link = f'https://api.covidactnow.org/v2/country/US.json?apiKey={COVID_KEY}'\n",
    "with requests.get(usa_link) as r:\n",
    "    usa = r.json()"
   ]
  },
  {
   "cell_type": "code",
   "execution_count": 63,
   "metadata": {
    "execution": {
     "iopub.execute_input": "2022-02-08T17:33:16.822904Z",
     "iopub.status.busy": "2022-02-08T17:33:16.821807Z",
     "iopub.status.idle": "2022-02-08T17:33:16.824221Z",
     "shell.execute_reply": "2022-02-08T17:33:16.824651Z"
    }
   },
   "outputs": [],
   "source": [
    "stats = usa['actuals']"
   ]
  },
  {
   "cell_type": "code",
   "execution_count": 64,
   "metadata": {
    "execution": {
     "iopub.execute_input": "2022-02-08T17:33:16.829418Z",
     "iopub.status.busy": "2022-02-08T17:33:16.828814Z",
     "iopub.status.idle": "2022-02-08T17:33:16.831968Z",
     "shell.execute_reply": "2022-02-08T17:33:16.832424Z"
    }
   },
   "outputs": [],
   "source": [
    "c, n_c, d, n_d = stats['cases'], stats['newCases'], stats['deaths'], stats['newDeaths']\n",
    "vax_rat = usa['metrics']['vaccinationsCompletedRatio']"
   ]
  },
  {
   "cell_type": "code",
   "execution_count": 65,
   "metadata": {
    "execution": {
     "iopub.execute_input": "2022-02-08T17:33:16.839284Z",
     "iopub.status.busy": "2022-02-08T17:33:16.838561Z",
     "iopub.status.idle": "2022-02-08T17:33:16.841786Z",
     "shell.execute_reply": "2022-02-08T17:33:16.842253Z"
    }
   },
   "outputs": [],
   "source": [
    "covid_kpi = dp.Group(\n",
    "    dp.BigNumber(\n",
    "        heading='Total Cases',\n",
    "        value=\"{:,}\".format(c),\n",
    "        change=f\"{round(n_c / c * 100, 2)}%\",\n",
    "        is_upward_change=True if n_c / c - 1 > 0 else False\n",
    "    ),\n",
    "    dp.BigNumber(\n",
    "        heading='Total Deaths',\n",
    "        value=\"{:,}\".format(d),\n",
    "        change=f\"{round(n_d / d * 100, 2)}%\",\n",
    "        is_upward_change=True if n_d / d - 1 > 0 else False\n",
    "    ),\n",
    "    dp.BigNumber(\n",
    "        heading='Vaccine Completion',\n",
    "        value=f\"{round(vax_rat * 100, 2)}%\"\n",
    "    ),\n",
    "    columns=3\n",
    ")"
   ]
  },
  {
   "cell_type": "markdown",
   "metadata": {},
   "source": [
    "County Choropleth"
   ]
  },
  {
   "cell_type": "code",
   "execution_count": 66,
   "metadata": {
    "execution": {
     "iopub.execute_input": "2022-02-08T17:33:16.848222Z",
     "iopub.status.busy": "2022-02-08T17:33:16.847105Z",
     "iopub.status.idle": "2022-02-08T17:33:18.061652Z",
     "shell.execute_reply": "2022-02-08T17:33:18.061169Z"
    }
   },
   "outputs": [],
   "source": [
    "geo_link = 'https://raw.githubusercontent.com/plotly/datasets/master/geojson-counties-fips.json'\n",
    "with requests.get(geo_link) as r:\n",
    "    geo_json = r.json()"
   ]
  },
  {
   "cell_type": "code",
   "execution_count": 67,
   "metadata": {
    "execution": {
     "iopub.execute_input": "2022-02-08T17:33:18.066527Z",
     "iopub.status.busy": "2022-02-08T17:33:18.065584Z",
     "iopub.status.idle": "2022-02-08T17:33:18.067869Z",
     "shell.execute_reply": "2022-02-08T17:33:18.068482Z"
    }
   },
   "outputs": [],
   "source": [
    "counties = f'https://api.covidactnow.org/v2/counties.json?apiKey={COVID_KEY}'"
   ]
  },
  {
   "cell_type": "code",
   "execution_count": 68,
   "metadata": {
    "execution": {
     "iopub.execute_input": "2022-02-08T17:33:18.074328Z",
     "iopub.status.busy": "2022-02-08T17:33:18.073378Z",
     "iopub.status.idle": "2022-02-08T17:33:30.138449Z",
     "shell.execute_reply": "2022-02-08T17:33:30.139660Z"
    }
   },
   "outputs": [],
   "source": [
    "with requests.get(counties) as r:\n",
    "    counties = pd.DataFrame(r.json())"
   ]
  },
  {
   "cell_type": "code",
   "execution_count": 69,
   "metadata": {
    "execution": {
     "iopub.execute_input": "2022-02-08T17:33:30.162839Z",
     "iopub.status.busy": "2022-02-08T17:33:30.161852Z",
     "iopub.status.idle": "2022-02-08T17:33:30.164223Z",
     "shell.execute_reply": "2022-02-08T17:33:30.164698Z"
    }
   },
   "outputs": [],
   "source": [
    "counties['cases'] = counties.actuals.str['cases']\n",
    "counties['case_ratio'] = counties.cases / counties.population\n",
    "counties['deaths'] = counties.actuals.str['deaths']\n",
    "counties['death_ratio'] = counties.deaths / counties.population\n",
    "counties['vaccine_ratio'] = counties.metrics.str['vaccinationsCompletedRatio']"
   ]
  },
  {
   "cell_type": "code",
   "execution_count": 70,
   "metadata": {
    "execution": {
     "iopub.execute_input": "2022-02-08T17:33:30.172221Z",
     "iopub.status.busy": "2022-02-08T17:33:30.170035Z",
     "iopub.status.idle": "2022-02-08T17:33:33.941119Z",
     "shell.execute_reply": "2022-02-08T17:33:33.941547Z"
    }
   },
   "outputs": [
    {
     "name": "stdout",
     "output_type": "stream",
     "text": [
      "CPU times: user 2.46 s, sys: 198 ms, total: 2.66 s\n",
      "Wall time: 4.39 s\n"
     ]
    }
   ],
   "source": [
    "%%time\n",
    "\n",
    "covid_fig = county_choropleth(counties, geo_json)"
   ]
  },
  {
   "cell_type": "markdown",
   "metadata": {},
   "source": [
    "Individual State Plots"
   ]
  },
  {
   "cell_type": "code",
   "execution_count": 71,
   "metadata": {
    "execution": {
     "iopub.execute_input": "2022-02-08T17:33:33.947065Z",
     "iopub.status.busy": "2022-02-08T17:33:33.946085Z",
     "iopub.status.idle": "2022-02-08T17:33:33.948950Z",
     "shell.execute_reply": "2022-02-08T17:33:33.949391Z"
    }
   },
   "outputs": [],
   "source": [
    "states = f'https://api.covidactnow.org/v2/states.timeseries.json?apiKey={COVID_KEY}'"
   ]
  },
  {
   "cell_type": "code",
   "execution_count": 72,
   "metadata": {
    "execution": {
     "iopub.execute_input": "2022-02-08T17:33:33.956086Z",
     "iopub.status.busy": "2022-02-08T17:33:33.954451Z",
     "iopub.status.idle": "2022-02-08T17:34:02.848863Z",
     "shell.execute_reply": "2022-02-08T17:34:02.849378Z"
    }
   },
   "outputs": [],
   "source": [
    "with requests.get(states) as r:\n",
    "    states = pd.DataFrame(r.json())"
   ]
  },
  {
   "cell_type": "code",
   "execution_count": 73,
   "metadata": {
    "execution": {
     "iopub.execute_input": "2022-02-08T17:34:02.858910Z",
     "iopub.status.busy": "2022-02-08T17:34:02.858220Z",
     "iopub.status.idle": "2022-02-08T17:34:31.015290Z",
     "shell.execute_reply": "2022-02-08T17:34:31.015772Z"
    }
   },
   "outputs": [
    {
     "name": "stdout",
     "output_type": "stream",
     "text": [
      "CPU times: user 21.3 s, sys: 469 ms, total: 21.8 s\n",
      "Wall time: 24.4 s\n"
     ]
    }
   ],
   "source": [
    "%%time\n",
    "\n",
    "covid_figures = list(map(\n",
    "    plot_state, states.state, states.actualsTimeseries\n",
    "))"
   ]
  },
  {
   "cell_type": "markdown",
   "metadata": {},
   "source": [
    "##### Data Exploration Compilation"
   ]
  },
  {
   "cell_type": "code",
   "execution_count": 74,
   "metadata": {
    "execution": {
     "iopub.execute_input": "2022-02-08T17:34:31.025471Z",
     "iopub.status.busy": "2022-02-08T17:34:31.024143Z",
     "iopub.status.idle": "2022-02-08T17:34:32.174609Z",
     "shell.execute_reply": "2022-02-08T17:34:32.175043Z"
    }
   },
   "outputs": [],
   "source": [
    "_538_group = dp.Toggle(\n",
    "    dp.Select(\n",
    "        *_538_figures\n",
    "    ),\n",
    "    label = 'Five Thirty Eight'\n",
    ")\n",
    "lichess_group = dp.Toggle(\n",
    "    dp.Text(\"Lichess\", label='A'),\n",
    "    label = 'Lichess'\n",
    ")\n",
    "spotify_group = dp.Toggle(\n",
    "    dp.Group(\n",
    "        *playlists_html,\n",
    "        columns=4\n",
    "    ),\n",
    "    label = 'Spotify'\n",
    ")\n",
    "covid_group = dp.Toggle(\n",
    "    covid_kpi,\n",
    "    dp.Divider(),\n",
    "    dp.Plot(\n",
    "        covid_fig\n",
    "    ),\n",
    "    dp.Divider(),\n",
    "    dp.Select(\n",
    "        *covid_figures\n",
    "    ),\n",
    "    label = 'COVID'\n",
    ")"
   ]
  },
  {
   "cell_type": "code",
   "execution_count": 75,
   "metadata": {
    "execution": {
     "iopub.execute_input": "2022-02-08T17:34:32.180647Z",
     "iopub.status.busy": "2022-02-08T17:34:32.179501Z",
     "iopub.status.idle": "2022-02-08T17:34:32.182623Z",
     "shell.execute_reply": "2022-02-08T17:34:32.183055Z"
    }
   },
   "outputs": [],
   "source": [
    "data_groups = [\n",
    "    covid_group,\n",
    "    _538_group\n",
    "#     spotify_group,\n",
    "#     lichess_group,\n",
    "]"
   ]
  },
  {
   "cell_type": "markdown",
   "metadata": {},
   "source": [
    "#### 1.2.6 Compiled Selector <a class=\"anchor\" id=\"compiled\"></a>"
   ]
  },
  {
   "cell_type": "code",
   "execution_count": 76,
   "metadata": {
    "execution": {
     "iopub.execute_input": "2022-02-08T17:34:32.192675Z",
     "iopub.status.busy": "2022-02-08T17:34:32.190974Z",
     "iopub.status.idle": "2022-02-08T17:34:32.195304Z",
     "shell.execute_reply": "2022-02-08T17:34:32.194811Z"
    }
   },
   "outputs": [],
   "source": [
    "sports = dp.Group(\n",
    "    dp.Select(\n",
    "        *espn_groups,\n",
    "        type=dp.SelectType.DROPDOWN\n",
    "    ),\n",
    "    label='Sports: Results and Analysis',\n",
    ")\n",
    "news = dp.Group(\n",
    "    dp.Select(*article_sections),\n",
    "    label='Top World News'\n",
    ")\n",
    "market = dp.Group(\n",
    "    scroll,\n",
    "    dp.Divider(),\n",
    "    *ticker_groups,\n",
    "    dp.Divider(),\n",
    "    dp.Select(\n",
    "        *figures\n",
    "    ),\n",
    "    dp.Divider(),\n",
    "    *module_groups[:2],\n",
    "    dp.Group(\n",
    "        *module_groups[2:],\n",
    "        columns=4\n",
    "    ),\n",
    "#     dp.Select(\n",
    "#         *sp500_figures\n",
    "#     ),\n",
    "    label='Stock Market'\n",
    ")\n",
    "portfolio = dp.Group(\n",
    "    dp.Group(\n",
    "        portfolio_value,\n",
    "        cash,\n",
    "        columns=2\n",
    "    ),\n",
    "    dp.Divider(),\n",
    "    *portfolio_toggles,\n",
    "    dp.Divider(),\n",
    "    dp.Select(\n",
    "        *portfolio_figures\n",
    "    ),\n",
    "    label='Robinhood Portfolio'\n",
    ")\n",
    "data = dp.Group(\n",
    "    *data_groups,\n",
    "    label='Data Exploration'\n",
    ")"
   ]
  },
  {
   "cell_type": "code",
   "execution_count": 77,
   "metadata": {
    "execution": {
     "iopub.execute_input": "2022-02-08T17:34:32.201208Z",
     "iopub.status.busy": "2022-02-08T17:34:32.200482Z",
     "iopub.status.idle": "2022-02-08T17:34:32.203884Z",
     "shell.execute_reply": "2022-02-08T17:34:32.204364Z"
    }
   },
   "outputs": [],
   "source": [
    "main_select = dp.Select(\n",
    "    blocks=[\n",
    "        sports, news, market, portfolio, data\n",
    "\n",
    "    ],\n",
    "    type=dp.SelectType.TABS\n",
    ")"
   ]
  },
  {
   "cell_type": "markdown",
   "metadata": {},
   "source": [
    "### 1.3 Credits <a class=\"anchor\" id=\"credits\"></a>"
   ]
  },
  {
   "cell_type": "markdown",
   "metadata": {},
   "source": [
    "[Table of Contents](#toc)"
   ]
  },
  {
   "cell_type": "code",
   "execution_count": 78,
   "metadata": {
    "execution": {
     "iopub.execute_input": "2022-02-08T17:34:32.211431Z",
     "iopub.status.busy": "2022-02-08T17:34:32.209503Z",
     "iopub.status.idle": "2022-02-08T17:34:32.213390Z",
     "shell.execute_reply": "2022-02-08T17:34:32.214220Z"
    }
   },
   "outputs": [],
   "source": [
    "credits = dp.Text(\"Report built by Iain Muir.\")"
   ]
  },
  {
   "cell_type": "markdown",
   "metadata": {},
   "source": [
    "## 2. Datapane Report <a class=\"anchor\" id=\"report\"></a>"
   ]
  },
  {
   "cell_type": "markdown",
   "metadata": {},
   "source": [
    "[Table of Contents](#toc)"
   ]
  },
  {
   "cell_type": "code",
   "execution_count": 79,
   "metadata": {
    "execution": {
     "iopub.execute_input": "2022-02-08T17:34:32.222450Z",
     "iopub.status.busy": "2022-02-08T17:34:32.221264Z",
     "iopub.status.idle": "2022-02-08T17:34:32.225489Z",
     "shell.execute_reply": "2022-02-08T17:34:32.226718Z"
    }
   },
   "outputs": [],
   "source": [
    "report = dp.Report(\n",
    "    header_logo,\n",
    "    header_text,\n",
    "    header_description,\n",
    "    dp.Divider(),\n",
    "    main_select,\n",
    "    dp.Divider(),\n",
    "    credits\n",
    ")"
   ]
  },
  {
   "cell_type": "code",
   "execution_count": 80,
   "metadata": {
    "execution": {
     "iopub.execute_input": "2022-02-08T17:34:32.234240Z",
     "iopub.status.busy": "2022-02-08T17:34:32.233263Z",
     "iopub.status.idle": "2022-02-08T17:36:05.179369Z",
     "shell.execute_reply": "2022-02-08T17:36:05.180087Z"
    }
   },
   "outputs": [
    {
     "data": {
      "text/markdown": [
       "Uploading report and associated data - *please wait...*"
      ],
      "text/plain": [
       "<IPython.core.display.Markdown object>"
      ]
     },
     "metadata": {},
     "output_type": "display_data"
    },
    {
     "name": "stdout",
     "output_type": "stream",
     "text": [
      "Uploading files\n"
     ]
    },
    {
     "data": {
      "text/markdown": [
       "Report successfully uploaded. View and share your report <a href='https://datapane.com/u/iainmuir/reports/BAmGp47/information-aggregator/' target='_blank'>here</a>, or edit your report <a href='https://datapane.com/u/iainmuir/reports/BAmGp47/information-aggregator/edit/' target='_blank'>here</a>."
      ],
      "text/plain": [
       "<IPython.core.display.Markdown object>"
      ]
     },
     "metadata": {},
     "output_type": "display_data"
    }
   ],
   "source": [
    "try:\n",
    "    report.upload(\n",
    "        name='Information Aggregator', \n",
    "        open=False\n",
    "    )\n",
    "except requests.exceptions.HTTPError:\n",
    "    print(\n",
    "        ErrorHandler(\"Report Upload Error; FATAL.\", *get_error_info())\n",
    "    time.sleep(5)\n",
    "    \n",
    "    report.upload(\n",
    "        name='Information Aggregator', \n",
    "        open=False\n",
    "    )"
   ]
  },
  {
   "cell_type": "code",
   "execution_count": 81,
   "metadata": {
    "execution": {
     "iopub.execute_input": "2022-02-08T17:36:05.188748Z",
     "iopub.status.busy": "2022-02-08T17:36:05.187956Z",
     "iopub.status.idle": "2022-02-08T17:36:12.226213Z",
     "shell.execute_reply": "2022-02-08T17:36:12.225755Z"
    }
   },
   "outputs": [
    {
     "data": {
      "text/markdown": [
       "Report saved to .//Users/iainmuir/PycharmProjects/Desktop/PersonalProjects/Information-Aggregator/Output/Information-Aggregator.html"
      ],
      "text/plain": [
       "<IPython.core.display.Markdown object>"
      ]
     },
     "metadata": {},
     "output_type": "display_data"
    }
   ],
   "source": [
    "report.save(\n",
    "    path=f'{ROOT}/Output/Information-Aggregator.html'\n",
    ")"
   ]
  },
  {
   "cell_type": "code",
   "execution_count": 82,
   "metadata": {
    "execution": {
     "iopub.execute_input": "2022-02-08T17:36:12.230309Z",
     "iopub.status.busy": "2022-02-08T17:36:12.229730Z",
     "iopub.status.idle": "2022-02-08T17:36:13.001651Z",
     "shell.execute_reply": "2022-02-08T17:36:13.002724Z"
    }
   },
   "outputs": [
    {
     "data": {
      "text/plain": [
       "True"
      ]
     },
     "execution_count": 82,
     "metadata": {},
     "output_type": "execute_result"
    }
   ],
   "source": [
    "webbrowser.open(\n",
    "    report.web_url\n",
    ")"
   ]
  },
  {
   "cell_type": "code",
   "execution_count": 83,
   "metadata": {
    "execution": {
     "iopub.execute_input": "2022-02-08T17:36:13.020403Z",
     "iopub.status.busy": "2022-02-08T17:36:13.017293Z",
     "iopub.status.idle": "2022-02-08T17:36:13.034225Z",
     "shell.execute_reply": "2022-02-08T17:36:13.033063Z"
    }
   },
   "outputs": [],
   "source": [
    "Logging.write_success_to_log()"
   ]
  }
 ],
 "metadata": {
  "kernelspec": {
   "display_name": "Info-Agg",
   "language": "python",
   "name": "information-aggregator"
  },
  "language_info": {
   "codemirror_mode": {
    "name": "ipython",
    "version": 3
   },
   "file_extension": ".py",
   "mimetype": "text/x-python",
   "name": "python",
   "nbconvert_exporter": "python",
   "pygments_lexer": "ipython3",
   "version": "3.9.0"
  }
 },
 "nbformat": 4,
 "nbformat_minor": 4
}
